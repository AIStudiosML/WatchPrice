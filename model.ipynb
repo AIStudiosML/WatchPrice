{
 "cells": [
  {
   "cell_type": "code",
   "execution_count": 13,
   "metadata": {},
   "outputs": [],
   "source": [
    "import pandas as pd\n",
    "import numpy as np\n",
    "from sklearn.model_selection import train_test_split\n",
    "from sklearn.linear_model import LinearRegression\n",
    "from sklearn.metrics import mean_squared_error\n",
    "from sklearn.model_selection import cross_val_score\n",
    "\n",
    "%matplotlib inline"
   ]
  },
  {
   "cell_type": "code",
   "execution_count": 2,
   "metadata": {},
   "outputs": [],
   "source": [
    "df = pd.read_csv('./data/clean.csv')"
   ]
  },
  {
   "cell_type": "code",
   "execution_count": 3,
   "metadata": {},
   "outputs": [
    {
     "data": {
      "text/html": [
       "<div>\n",
       "<style scoped>\n",
       "    .dataframe tbody tr th:only-of-type {\n",
       "        vertical-align: middle;\n",
       "    }\n",
       "\n",
       "    .dataframe tbody tr th {\n",
       "        vertical-align: top;\n",
       "    }\n",
       "\n",
       "    .dataframe thead th {\n",
       "        text-align: right;\n",
       "    }\n",
       "</style>\n",
       "<table border=\"1\" class=\"dataframe\">\n",
       "  <thead>\n",
       "    <tr style=\"text-align: right;\">\n",
       "      <th></th>\n",
       "      <th>Current Price</th>\n",
       "      <th>Original Price</th>\n",
       "      <th>Rating</th>\n",
       "      <th>Number OF Ratings</th>\n",
       "      <th>Battery Life (Days)</th>\n",
       "      <th>Display Size</th>\n",
       "      <th>Weight</th>\n",
       "      <th>Discount Price</th>\n",
       "      <th>ambrane</th>\n",
       "      <th>boat</th>\n",
       "      <th>...</th>\n",
       "      <th>Leather</th>\n",
       "      <th>Metal</th>\n",
       "      <th>Nylon</th>\n",
       "      <th>Other</th>\n",
       "      <th>Plastic</th>\n",
       "      <th>Rubber</th>\n",
       "      <th>Silicon</th>\n",
       "      <th>Stainless Steel</th>\n",
       "      <th>Synthetic</th>\n",
       "      <th>Thermo Plastic Polyurethene</th>\n",
       "    </tr>\n",
       "  </thead>\n",
       "  <tbody>\n",
       "    <tr>\n",
       "      <th>0</th>\n",
       "      <td>0.111631</td>\n",
       "      <td>0.568365</td>\n",
       "      <td>0.833333</td>\n",
       "      <td>0.622082</td>\n",
       "      <td>0.129412</td>\n",
       "      <td>0.615385</td>\n",
       "      <td>0.772727</td>\n",
       "      <td>-13200.000001</td>\n",
       "      <td>0</td>\n",
       "      <td>0</td>\n",
       "      <td>...</td>\n",
       "      <td>0</td>\n",
       "      <td>0</td>\n",
       "      <td>0</td>\n",
       "      <td>0</td>\n",
       "      <td>0</td>\n",
       "      <td>0</td>\n",
       "      <td>1</td>\n",
       "      <td>0</td>\n",
       "      <td>0</td>\n",
       "      <td>0</td>\n",
       "    </tr>\n",
       "    <tr>\n",
       "      <th>1</th>\n",
       "      <td>0.034348</td>\n",
       "      <td>0.229960</td>\n",
       "      <td>0.416667</td>\n",
       "      <td>0.650096</td>\n",
       "      <td>0.341176</td>\n",
       "      <td>0.538462</td>\n",
       "      <td>0.409091</td>\n",
       "      <td>-5991.000000</td>\n",
       "      <td>0</td>\n",
       "      <td>1</td>\n",
       "      <td>...</td>\n",
       "      <td>0</td>\n",
       "      <td>0</td>\n",
       "      <td>0</td>\n",
       "      <td>0</td>\n",
       "      <td>0</td>\n",
       "      <td>0</td>\n",
       "      <td>1</td>\n",
       "      <td>0</td>\n",
       "      <td>0</td>\n",
       "      <td>0</td>\n",
       "    </tr>\n",
       "    <tr>\n",
       "      <th>2</th>\n",
       "      <td>0.025761</td>\n",
       "      <td>0.681053</td>\n",
       "      <td>0.833333</td>\n",
       "      <td>0.396295</td>\n",
       "      <td>0.129412</td>\n",
       "      <td>0.615385</td>\n",
       "      <td>1.000000</td>\n",
       "      <td>-18200.000000</td>\n",
       "      <td>0</td>\n",
       "      <td>0</td>\n",
       "      <td>...</td>\n",
       "      <td>0</td>\n",
       "      <td>0</td>\n",
       "      <td>0</td>\n",
       "      <td>0</td>\n",
       "      <td>0</td>\n",
       "      <td>0</td>\n",
       "      <td>1</td>\n",
       "      <td>0</td>\n",
       "      <td>0</td>\n",
       "      <td>0</td>\n",
       "    </tr>\n",
       "    <tr>\n",
       "      <th>3</th>\n",
       "      <td>0.017174</td>\n",
       "      <td>0.117609</td>\n",
       "      <td>0.666667</td>\n",
       "      <td>0.415958</td>\n",
       "      <td>0.341176</td>\n",
       "      <td>0.538462</td>\n",
       "      <td>0.409091</td>\n",
       "      <td>-3400.000000</td>\n",
       "      <td>0</td>\n",
       "      <td>0</td>\n",
       "      <td>...</td>\n",
       "      <td>0</td>\n",
       "      <td>0</td>\n",
       "      <td>0</td>\n",
       "      <td>1</td>\n",
       "      <td>0</td>\n",
       "      <td>0</td>\n",
       "      <td>0</td>\n",
       "      <td>0</td>\n",
       "      <td>0</td>\n",
       "      <td>0</td>\n",
       "    </tr>\n",
       "    <tr>\n",
       "      <th>4</th>\n",
       "      <td>0.012881</td>\n",
       "      <td>0.080047</td>\n",
       "      <td>0.583333</td>\n",
       "      <td>0.978720</td>\n",
       "      <td>0.341176</td>\n",
       "      <td>0.538462</td>\n",
       "      <td>0.409091</td>\n",
       "      <td>-2500.000000</td>\n",
       "      <td>0</td>\n",
       "      <td>0</td>\n",
       "      <td>...</td>\n",
       "      <td>0</td>\n",
       "      <td>0</td>\n",
       "      <td>0</td>\n",
       "      <td>1</td>\n",
       "      <td>0</td>\n",
       "      <td>0</td>\n",
       "      <td>0</td>\n",
       "      <td>0</td>\n",
       "      <td>0</td>\n",
       "      <td>0</td>\n",
       "    </tr>\n",
       "  </tbody>\n",
       "</table>\n",
       "<p>5 rows × 201 columns</p>\n",
       "</div>"
      ],
      "text/plain": [
       "   Current Price  Original Price    Rating  Number OF Ratings  \\\n",
       "0       0.111631        0.568365  0.833333           0.622082   \n",
       "1       0.034348        0.229960  0.416667           0.650096   \n",
       "2       0.025761        0.681053  0.833333           0.396295   \n",
       "3       0.017174        0.117609  0.666667           0.415958   \n",
       "4       0.012881        0.080047  0.583333           0.978720   \n",
       "\n",
       "   Battery Life (Days)  Display Size    Weight  Discount Price  ambrane  boat  \\\n",
       "0             0.129412      0.615385  0.772727   -13200.000001        0     0   \n",
       "1             0.341176      0.538462  0.409091    -5991.000000        0     1   \n",
       "2             0.129412      0.615385  1.000000   -18200.000000        0     0   \n",
       "3             0.341176      0.538462  0.409091    -3400.000000        0     0   \n",
       "4             0.341176      0.538462  0.409091    -2500.000000        0     0   \n",
       "\n",
       "   ...  Leather  Metal  Nylon  Other  Plastic  Rubber  Silicon  \\\n",
       "0  ...        0      0      0      0        0       0        1   \n",
       "1  ...        0      0      0      0        0       0        1   \n",
       "2  ...        0      0      0      0        0       0        1   \n",
       "3  ...        0      0      0      1        0       0        0   \n",
       "4  ...        0      0      0      1        0       0        0   \n",
       "\n",
       "   Stainless Steel  Synthetic  Thermo Plastic Polyurethene  \n",
       "0                0          0                            0  \n",
       "1                0          0                            0  \n",
       "2                0          0                            0  \n",
       "3                0          0                            0  \n",
       "4                0          0                            0  \n",
       "\n",
       "[5 rows x 201 columns]"
      ]
     },
     "execution_count": 3,
     "metadata": {},
     "output_type": "execute_result"
    }
   ],
   "source": [
    "df.head()"
   ]
  },
  {
   "cell_type": "code",
   "execution_count": 4,
   "metadata": {},
   "outputs": [
    {
     "data": {
      "text/plain": [
       "(181, 201)"
      ]
     },
     "execution_count": 4,
     "metadata": {},
     "output_type": "execute_result"
    }
   ],
   "source": [
    "df.shape"
   ]
  },
  {
   "cell_type": "code",
   "execution_count": 6,
   "metadata": {},
   "outputs": [],
   "source": [
    "X = df.drop('Discount Price', axis=1)\n",
    "y = df['Discount Price']  # Replace with your target column name\n"
   ]
  },
  {
   "cell_type": "code",
   "execution_count": 9,
   "metadata": {},
   "outputs": [],
   "source": [
    "X_train, X_test, y_train, y_test = train_test_split(X, y, test_size=0.2, random_state=42)  # 80% training, 20% testing"
   ]
  },
  {
   "cell_type": "code",
   "execution_count": 11,
   "metadata": {},
   "outputs": [
    {
     "name": "stdout",
     "output_type": "stream",
     "text": [
      "Mean Squared Error: 6786886321.323678\n"
     ]
    }
   ],
   "source": [
    "# Create a linear regression model\n",
    "model = LinearRegression()\n",
    "\n",
    "# Train the model on the training data\n",
    "model.fit(X_train, y_train)\n",
    "\n",
    "# Make predictions on the testing data\n",
    "y_pred = model.predict(X_test)\n",
    "\n",
    "# Evaluate the model\n",
    "mse = mean_squared_error(y_test, y_pred)\n",
    "print('Mean Squared Error:', mse)"
   ]
  },
  {
   "cell_type": "code",
   "execution_count": 17,
   "metadata": {},
   "outputs": [],
   "source": [
    "# Create a linear regression model\n",
    "model = LinearRegression()"
   ]
  },
  {
   "cell_type": "code",
   "execution_count": 19,
   "metadata": {},
   "outputs": [
    {
     "name": "stdout",
     "output_type": "stream",
     "text": [
      "Cross-validation MSE scores: [5.01427688e+11 4.23635313e+06 1.54337455e+11 2.34688100e+13\n",
      " 6.31326070e+10]\n",
      "Average cross-validation MSE score: 4837542401942.293\n",
      "Standard deviation of cross-validation MSE scores: 9317244195151.78\n"
     ]
    }
   ],
   "source": [
    "# Perform 5-fold cross-validation with mean_squared_error as the scoring metric\n",
    "scores = cross_val_score(model, X, y, cv=5, scoring='neg_mean_squared_error')  # Use neg_mean_squared_error as the scoring metric\n",
    "\n",
    "# Convert the negative MSE scores to positive MSE scores\n",
    "mse_scores = -scores\n",
    "\n",
    "# Print the cross-validation MSE scores\n",
    "print('Cross-validation MSE scores:', mse_scores)\n",
    "\n",
    "# Print the average and standard deviation of the cross-validation MSE scores\n",
    "print('Average cross-validation MSE score:', mse_scores.mean())\n",
    "print('Standard deviation of cross-validation MSE scores:', mse_scores.std())"
   ]
  },
  {
   "cell_type": "code",
   "execution_count": 21,
   "metadata": {},
   "outputs": [],
   "source": [
    "from sklearn.tree import DecisionTreeRegressor"
   ]
  },
  {
   "cell_type": "code",
   "execution_count": 23,
   "metadata": {},
   "outputs": [],
   "source": [
    "from sklearn.metrics import r2_score"
   ]
  },
  {
   "cell_type": "code",
   "execution_count": 25,
   "metadata": {},
   "outputs": [
    {
     "name": "stdout",
     "output_type": "stream",
     "text": [
      "Test R2 score: 0.8104998977421083\n",
      "Cross-validation R2 scores: [ 0.43383353  0.39107379  0.11895769 -0.03697021 -0.08583517]\n",
      "Average cross-validation R2 score: 0.16421192470341514\n",
      "Standard deviation of cross-validation R2 scores: 0.21410645121185348\n"
     ]
    }
   ],
   "source": [
    "# Create a decision tree regression model\n",
    "model = DecisionTreeRegressor()\n",
    "\n",
    "# Fit the model on the training data\n",
    "model.fit(X_train, y_train)\n",
    "\n",
    "# Predict on the test data\n",
    "y_pred = model.predict(X_test)\n",
    "\n",
    "# Calculate and print the R2 score on the test data\n",
    "r2 = r2_score(y_test, y_pred)\n",
    "print('Test R2 score:', r2)\n",
    "\n",
    "# Perform 5-fold cross-validation with R2 score as the scoring metric\n",
    "scores = cross_val_score(model, X, y, cv=5, scoring='r2')  # Use R2 score as the scoring metric\n",
    "\n",
    "# Print the cross-validation R2 scores\n",
    "print('Cross-validation R2 scores:', scores)\n",
    "\n",
    "# Print the average and standard deviation of the cross-validation R2 scores\n",
    "print('Average cross-validation R2 score:', scores.mean())\n",
    "print('Standard deviation of cross-validation R2 scores:', scores.std())"
   ]
  },
  {
   "cell_type": "code",
   "execution_count": 26,
   "metadata": {},
   "outputs": [],
   "source": [
    "from sklearn.ensemble import RandomForestRegressor"
   ]
  },
  {
   "cell_type": "code",
   "execution_count": 27,
   "metadata": {},
   "outputs": [
    {
     "name": "stdout",
     "output_type": "stream",
     "text": [
      "Test R2 score: 0.5801217418686614\n",
      "Cross-validation R2 scores: [0.47787533 0.69823176 0.4889784  0.56121539 0.77766748]\n",
      "Average cross-validation R2: 0.6007936734820246\n",
      "Standard deviation of cross-validation R2: 0.11828486120981774\n"
     ]
    }
   ],
   "source": [
    "# Create a Random Forest Regression model\n",
    "model = RandomForestRegressor()\n",
    "\n",
    "# Fit the model on the training data\n",
    "model.fit(X_train, y_train)\n",
    "\n",
    "# Predict on the test data\n",
    "y_pred = model.predict(X_test)\n",
    "\n",
    "# Calculate and print the R2 score on the test data\n",
    "r2 = r2_score(y_test, y_pred)\n",
    "print('Test R2 score:', r2)\n",
    "\n",
    "# Perform 5-fold cross-validation with R2 score as the scoring metric\n",
    "scores = cross_val_score(model, X, y, cv=5, scoring='r2')\n",
    "\n",
    "# Print the cross-validation R2 scores\n",
    "print('Cross-validation R2 scores:', scores)\n",
    "\n",
    "# Print the average and standard deviation of the cross-validation R2 scores\n",
    "print('Average cross-validation R2:', scores.mean())\n",
    "print('Standard deviation of cross-validation R2:', scores.std())"
   ]
  },
  {
   "cell_type": "code",
   "execution_count": 30,
   "metadata": {},
   "outputs": [],
   "source": [
    "import xgboost as xgb"
   ]
  },
  {
   "cell_type": "code",
   "execution_count": 31,
   "metadata": {},
   "outputs": [
    {
     "name": "stdout",
     "output_type": "stream",
     "text": [
      "Test R2 score: 0.696532965457126\n",
      "Cross-validation R2 scores: [0.71302709 0.65764933 0.61387495 0.55157082 0.72571505]\n",
      "Average cross-validation R2: 0.6523674467646415\n",
      "Standard deviation of cross-validation R2: 0.06438787822440571\n"
     ]
    }
   ],
   "source": [
    "# Create an XGBoost regression model\n",
    "model = xgb.XGBRegressor()\n",
    "\n",
    "# Fit the model on the training data\n",
    "model.fit(X_train, y_train)\n",
    "\n",
    "# Predict on the test data\n",
    "y_pred = model.predict(X_test)\n",
    "\n",
    "# Calculate and print the R2 score on the test data\n",
    "r2 = r2_score(y_test, y_pred)\n",
    "print('Test R2 score:', r2)\n",
    "\n",
    "# Perform 5-fold cross-validation with R2 score as the scoring metric\n",
    "scores = cross_val_score(model, X, y, cv=5, scoring='r2')\n",
    "\n",
    "# Print the cross-validation R2 scores\n",
    "print('Cross-validation R2 scores:', scores)\n",
    "\n",
    "# Print the average and standard deviation of the cross-validation R2 scores\n",
    "print('Average cross-validation R2:', scores.mean())\n",
    "print('Standard deviation of cross-validation R2:', scores.std())"
   ]
  },
  {
   "cell_type": "code",
   "execution_count": 32,
   "metadata": {},
   "outputs": [],
   "source": [
    "from sklearn.model_selection import GridSearchCV"
   ]
  },
  {
   "cell_type": "code",
   "execution_count": 33,
   "metadata": {},
   "outputs": [
    {
     "name": "stdout",
     "output_type": "stream",
     "text": [
      "Test R2 score: 0.8154684874634421\n"
     ]
    }
   ],
   "source": [
    "# Define hyperparameter grid for tuning\n",
    "param_grid = {\n",
    "    'n_estimators': [100, 200, 300],  # Number of boosting rounds\n",
    "    'max_depth': [3, 4, 5],  # Maximum depth of each tree\n",
    "    'learning_rate': [0.01, 0.1, 0.2],  # Learning rate (step size) of each boosting round\n",
    "}\n",
    "\n",
    "# Create GridSearchCV object for hyperparameter tuning\n",
    "grid_search = GridSearchCV(estimator=model, param_grid=param_grid, cv=5, scoring='r2')\n",
    "\n",
    "# Fit the GridSearchCV object on the training data\n",
    "grid_search.fit(X_train, y_train)\n",
    "\n",
    "# Get the best hyperparameters from the grid search\n",
    "best_params = grid_search.best_params_\n",
    "\n",
    "# Create an XGBoost regression model with the best hyperparameters\n",
    "best_model = xgb.XGBRegressor(**best_params)\n",
    "\n",
    "# Fit the best model on the training data\n",
    "best_model.fit(X_train, y_train)\n",
    "\n",
    "# Predict on the test data\n",
    "y_pred = best_model.predict(X_test)\n",
    "\n",
    "# Calculate and print the R2 score on the test data\n",
    "r2 = r2_score(y_test, y_pred)\n",
    "print('Test R2 score:', r2)"
   ]
  },
  {
   "cell_type": "code",
   "execution_count": 34,
   "metadata": {},
   "outputs": [
    {
     "data": {
      "text/plain": [
       "{'learning_rate': 0.1, 'max_depth': 3, 'n_estimators': 300}"
      ]
     },
     "execution_count": 34,
     "metadata": {},
     "output_type": "execute_result"
    }
   ],
   "source": [
    "best_params"
   ]
  },
  {
   "cell_type": "code",
   "execution_count": 35,
   "metadata": {},
   "outputs": [
    {
     "data": {
      "image/png": "[encoded data removed]",
      "text/plain": [
       "<Figure size 640x480 with 1 Axes>"
      ]
     },
     "metadata": {},
     "output_type": "display_data"
    }
   ],
   "source": [
    "import matplotlib.pyplot as plt\n",
    "import numpy as np\n",
    "\n",
    "# Assuming you have already trained your XGBoost model and obtained the predicted and actual values\n",
    "# in the y_pred and y_test arrays, respectively\n",
    "\n",
    "# Create a scatter plot of actual vs. predicted values\n",
    "plt.scatter(y_test, y_pred, alpha=0.5)\n",
    "\n",
    "# Add a diagonal line for reference (indicating perfect prediction)\n",
    "plt.plot([min(y_test), max(y_test)], [min(y_test), max(y_test)], 'r', linestyle='--')\n",
    "\n",
    "# Set labels and title\n",
    "plt.xlabel('Actual Values')\n",
    "plt.ylabel('Predicted Values')\n",
    "plt.title('Actual vs. Predicted Values')\n",
    "\n",
    "# Show the plot\n",
    "plt.show()\n"
   ]
  },
  {
   "cell_type": "code",
   "execution_count": 37,
   "metadata": {},
   "outputs": [],
   "source": [
    "import pickle\n",
    "# Save the trained XGBoost model to a file\n",
    "with open('xgboost_model.pkl', 'wb') as f:\n",
    "    pickle.dump(best_model, f)"
   ]
  },
  {
   "cell_type": "code",
   "execution_count": 39,
   "metadata": {},
   "outputs": [
    {
     "name": "stdout",
     "output_type": "stream",
     "text": [
      "R2 score: 0.8154684874634421\n"
     ]
    }
   ],
   "source": [
    "# Assuming you have loaded the XGBoost model from a file as shown in the previous responses\n",
    "import xgboost as xgb\n",
    "from sklearn.metrics import r2_score\n",
    "\n",
    "# Load the saved XGBoost model from the file\n",
    "with open('xgboost_model.pkl', 'rb') as f:\n",
    "    xgb_model = pickle.load(f)\n",
    "\n",
    "# Assuming you have new data for prediction stored in a variable named 'X_test'\n",
    "# Make predictions using the loaded XGBoost model\n",
    "y_pred = xgb_model.predict(X_test)\n",
    "\n",
    "# Calculate R2 score for the predicted values\n",
    "r2 = r2_score(y_test, y_pred)\n",
    "print(\"R2 score:\", r2)"
   ]
  },
  {
   "cell_type": "code",
   "execution_count": 49,
   "metadata": {},
   "outputs": [
    {
     "name": "stdout",
     "output_type": "stream",
     "text": [
      "Test R2 score: 0.8154684874634421\n",
      "Cross-validation R2 scores: [0.81234932 0.83428997 0.6587981  0.72078055 0.7790086 ]\n",
      "Average cross-validation R2: 0.761045307552964\n",
      "Standard deviation of cross-validation R2: 0.06386752457934303\n"
     ]
    }
   ],
   "source": [
    "# Create an XGBoost regression model\n",
    "model = xgb.XGBRegressor(learning_rate= 0.1, max_depth= 3, n_estimators= 300)\n",
    "\n",
    "# Fit the model on the training data\n",
    "model.fit(X_train, y_train)\n",
    "\n",
    "# Predict on the test data\n",
    "y_pred = model.predict(X_test)\n",
    "\n",
    "# Calculate and print the R2 score on the test data\n",
    "r2 = r2_score(y_test, y_pred)\n",
    "print('Test R2 score:', r2)\n",
    "\n",
    "# Perform 5-fold cross-validation with R2 score as the scoring metric\n",
    "scores = cross_val_score(model, X, y, cv=5, scoring='r2')\n",
    "\n",
    "# Print the cross-validation R2 scores\n",
    "print('Cross-validation R2 scores:', scores)\n",
    "\n",
    "# Print the average and standard deviation of the cross-validation R2 scores\n",
    "print('Average cross-validation R2:', scores.mean())\n",
    "print('Standard deviation of cross-validation R2:', scores.std())"
   ]
  },
  {
   "cell_type": "code",
   "execution_count": 48,
   "metadata": {},
   "outputs": [
    {
     "name": "stdout",
     "output_type": "stream",
     "text": [
      "Test R2 score: 0.8174494736891416\n",
      "Cross-validation R2 scores: [0.81104504 0.83592525 0.65383054 0.71825068 0.7795456 ]\n",
      "Average cross-validation R2: 0.7597194236494651\n",
      "Standard deviation of cross-validation R2: 0.06598005166556094\n"
     ]
    }
   ],
   "source": [
    "# Create an XGBoost regression model\n",
    "model = xgb.XGBRegressor(learning_rate= 0.1, max_depth= 3, n_estimators= 300, reg_alpha=0.5)\n",
    "\n",
    "# Fit the model on the training data\n",
    "model.fit(X_train, y_train)\n",
    "\n",
    "# Predict on the test data\n",
    "y_pred = model.predict(X_test)\n",
    "\n",
    "# Calculate and print the R2 score on the test data\n",
    "r2 = r2_score(y_test, y_pred)\n",
    "print('Test R2 score:', r2)\n",
    "\n",
    "# Perform 5-fold cross-validation with R2 score as the scoring metric\n",
    "scores = cross_val_score(model, X, y, cv=5, scoring='r2')\n",
    "\n",
    "# Print the cross-validation R2 scores\n",
    "print('Cross-validation R2 scores:', scores)\n",
    "\n",
    "# Print the average and standard deviation of the cross-validation R2 scores\n",
    "print('Average cross-validation R2:', scores.mean())\n",
    "print('Standard deviation of cross-validation R2:', scores.std())"
   ]
  },
  {
   "cell_type": "code",
   "execution_count": 45,
   "metadata": {},
   "outputs": [
    {
     "name": "stderr",
     "output_type": "stream",
     "text": [
      "/opt/homebrew/Caskroom/miniforge/base/envs/watchprice/lib/python3.9/site-packages/sklearn/linear_model/_coordinate_descent.py:631: ConvergenceWarning: Objective did not converge. You might want to increase the number of iterations, check the scale of the features or consider increasing regularisation. Duality gap: 1.388e+06, tolerance: 1.287e+05\n",
      "  model = cd_fast.enet_coordinate_descent(\n"
     ]
    },
    {
     "name": "stdout",
     "output_type": "stream",
     "text": [
      "Lasso R2 score: 0.9181479847507026\n",
      "Ridge R2 score: 0.7330152190958015\n"
     ]
    }
   ],
   "source": [
    "from sklearn.linear_model import Lasso, Ridge\n",
    "\n",
    "# Create a Lasso regularization model\n",
    "lasso_model = Lasso(alpha=0.1)  # alpha is the regularization strength\n",
    "\n",
    "# Create a Ridge regularization model\n",
    "ridge_model = Ridge(alpha=0.1)  # alpha is the regularization strength\n",
    "\n",
    "# Fit the Lasso model to the training data\n",
    "lasso_model.fit(X_train, y_train)\n",
    "\n",
    "# Fit the Ridge model to the training data\n",
    "ridge_model.fit(X_train, y_train)\n",
    "\n",
    "# Predict on the test data using the Lasso model\n",
    "y_pred_lasso = lasso_model.predict(X_test)\n",
    "\n",
    "# Predict on the test data using the Ridge model\n",
    "y_pred_ridge = ridge_model.predict(X_test)\n",
    "\n",
    "# Calculate the R2 score for Lasso and Ridge models\n",
    "r2_lasso = r2_score(y_test, y_pred_lasso)\n",
    "r2_ridge = r2_score(y_test, y_pred_ridge)\n",
    "\n",
    "print('Lasso R2 score:', r2_lasso)\n",
    "print('Ridge R2 score:', r2_ridge)\n"
   ]
  }
 ],
 "metadata": {
  "kernelspec": {
   "display_name": "watchprice",
   "language": "python",
   "name": "python3"
  },
  "language_info": {
   "codemirror_mode": {
    "name": "ipython",
    "version": 3
   },
   "file_extension": ".py",
   "mimetype": "text/x-python",
   "name": "python",
   "nbconvert_exporter": "python",
   "pygments_lexer": "ipython3",
   "version": "3.9.6"
  },
  "orig_nbformat": 4
 },
 "nbformat": 4,
 "nbformat_minor": 2
}
