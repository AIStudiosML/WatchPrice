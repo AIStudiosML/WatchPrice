{
 "cells": [
  {
   "cell_type": "code",
   "execution_count": 1,
   "metadata": {},
   "outputs": [],
   "source": [
    "import re\n",
    "import pandas as pd\n",
    "import numpy as np\n",
    "import matplotlib.pyplot as plt\n",
    "import seaborn as sns\n",
    "\n",
    "%matplotlib inline"
   ]
  },
  {
   "cell_type": "code",
   "execution_count": 2,
   "metadata": {},
   "outputs": [],
   "source": [
    "data_path = './data/smartwatches.csv'\n",
    "df = pd.read_csv(data_path)\n",
    "df.drop_duplicates(inplace=True)\n",
    "# train_df = df.sample(frac=0.8, random_state=42)\n",
    "# test_df = df.drop(train_df.index)\n",
    "# train_df = train_df.reset_index()\n",
    "# test_df = test_df.reset_index()"
   ]
  },
  {
   "cell_type": "code",
   "execution_count": 3,
   "metadata": {},
   "outputs": [],
   "source": [
    "train_df = df.copy()"
   ]
  },
  {
   "cell_type": "code",
   "execution_count": 4,
   "metadata": {},
   "outputs": [
    {
     "data": {
      "text/plain": [
       "((450, 16), (450, 16))"
      ]
     },
     "execution_count": 4,
     "metadata": {},
     "output_type": "execute_result"
    }
   ],
   "source": [
    "df.shape, train_df.shape"
   ]
  },
  {
   "cell_type": "code",
   "execution_count": 5,
   "metadata": {},
   "outputs": [
    {
     "data": {
      "text/html": [
       "<div>\n",
       "<style scoped>\n",
       "    .dataframe tbody tr th:only-of-type {\n",
       "        vertical-align: middle;\n",
       "    }\n",
       "\n",
       "    .dataframe tbody tr th {\n",
       "        vertical-align: top;\n",
       "    }\n",
       "\n",
       "    .dataframe thead th {\n",
       "        text-align: right;\n",
       "    }\n",
       "</style>\n",
       "<table border=\"1\" class=\"dataframe\">\n",
       "  <thead>\n",
       "    <tr style=\"text-align: right;\">\n",
       "      <th></th>\n",
       "      <th>Unnamed: 0</th>\n",
       "      <th>Brand</th>\n",
       "      <th>Current Price</th>\n",
       "      <th>Original Price</th>\n",
       "      <th>Discount Percentage</th>\n",
       "      <th>Rating</th>\n",
       "      <th>Number OF Ratings</th>\n",
       "      <th>Model Name</th>\n",
       "      <th>Dial Shape</th>\n",
       "      <th>Strap Color</th>\n",
       "      <th>Strap Material</th>\n",
       "      <th>Touchscreen</th>\n",
       "      <th>Battery Life (Days)</th>\n",
       "      <th>Bluetooth</th>\n",
       "      <th>Display Size</th>\n",
       "      <th>Weight</th>\n",
       "    </tr>\n",
       "  </thead>\n",
       "  <tbody>\n",
       "    <tr>\n",
       "      <th>0</th>\n",
       "      <td>0</td>\n",
       "      <td>noise</td>\n",
       "      <td>82990.0</td>\n",
       "      <td>89900.0</td>\n",
       "      <td>7.686318</td>\n",
       "      <td>4.0</td>\n",
       "      <td>65.0</td>\n",
       "      <td>Wrb-sw-colorfitpro4alpha-std-rgld_pnk</td>\n",
       "      <td>NaN</td>\n",
       "      <td>NaN</td>\n",
       "      <td>NaN</td>\n",
       "      <td>NaN</td>\n",
       "      <td>8.0</td>\n",
       "      <td>Yes</td>\n",
       "      <td>NaN</td>\n",
       "      <td>35 - 50 g</td>\n",
       "    </tr>\n",
       "    <tr>\n",
       "      <th>1</th>\n",
       "      <td>1</td>\n",
       "      <td>fire-boltt</td>\n",
       "      <td>3799.0</td>\n",
       "      <td>16999.0</td>\n",
       "      <td>77.651627</td>\n",
       "      <td>4.3</td>\n",
       "      <td>20788.0</td>\n",
       "      <td>BSW046</td>\n",
       "      <td>NaN</td>\n",
       "      <td>NaN</td>\n",
       "      <td>Silicon</td>\n",
       "      <td>Yes</td>\n",
       "      <td>3.5</td>\n",
       "      <td>Yes</td>\n",
       "      <td>1.8 inches</td>\n",
       "      <td>50 - 75 g</td>\n",
       "    </tr>\n",
       "    <tr>\n",
       "      <th>2</th>\n",
       "      <td>2</td>\n",
       "      <td>boat</td>\n",
       "      <td>1999.0</td>\n",
       "      <td>7990.0</td>\n",
       "      <td>74.981227</td>\n",
       "      <td>3.8</td>\n",
       "      <td>21724.0</td>\n",
       "      <td>Wave Call</td>\n",
       "      <td>NaN</td>\n",
       "      <td>NaN</td>\n",
       "      <td>Silicon</td>\n",
       "      <td>Yes</td>\n",
       "      <td>8.0</td>\n",
       "      <td>Yes</td>\n",
       "      <td>1.7 inches</td>\n",
       "      <td>35 - 50 g</td>\n",
       "    </tr>\n",
       "    <tr>\n",
       "      <th>3</th>\n",
       "      <td>3</td>\n",
       "      <td>fire-boltt</td>\n",
       "      <td>1799.0</td>\n",
       "      <td>19999.0</td>\n",
       "      <td>91.004550</td>\n",
       "      <td>4.3</td>\n",
       "      <td>13244.0</td>\n",
       "      <td>BSW053</td>\n",
       "      <td>NaN</td>\n",
       "      <td>NaN</td>\n",
       "      <td>Silicon</td>\n",
       "      <td>Yes</td>\n",
       "      <td>3.5</td>\n",
       "      <td>Yes</td>\n",
       "      <td>1.8 inches</td>\n",
       "      <td>75g +</td>\n",
       "    </tr>\n",
       "    <tr>\n",
       "      <th>4</th>\n",
       "      <td>4</td>\n",
       "      <td>noise</td>\n",
       "      <td>1599.0</td>\n",
       "      <td>4999.0</td>\n",
       "      <td>68.013603</td>\n",
       "      <td>4.1</td>\n",
       "      <td>13901.0</td>\n",
       "      <td>Wrb-sw-colorfitpulsegobuzz-std-blk_blk</td>\n",
       "      <td>NaN</td>\n",
       "      <td>NaN</td>\n",
       "      <td>Other</td>\n",
       "      <td>Yes</td>\n",
       "      <td>8.0</td>\n",
       "      <td>Yes</td>\n",
       "      <td>1.7 inches</td>\n",
       "      <td>35 - 50 g</td>\n",
       "    </tr>\n",
       "  </tbody>\n",
       "</table>\n",
       "</div>"
      ],
      "text/plain": [
       "   Unnamed: 0       Brand  Current Price  Original Price  Discount Percentage  \\\n",
       "0           0       noise        82990.0         89900.0             7.686318   \n",
       "1           1  fire-boltt         3799.0         16999.0            77.651627   \n",
       "2           2        boat         1999.0          7990.0            74.981227   \n",
       "3           3  fire-boltt         1799.0         19999.0            91.004550   \n",
       "4           4       noise         1599.0          4999.0            68.013603   \n",
       "\n",
       "   Rating  Number OF Ratings                              Model Name  \\\n",
       "0     4.0               65.0   Wrb-sw-colorfitpro4alpha-std-rgld_pnk   \n",
       "1     4.3            20788.0                                  BSW046   \n",
       "2     3.8            21724.0                               Wave Call   \n",
       "3     4.3            13244.0                                  BSW053   \n",
       "4     4.1            13901.0  Wrb-sw-colorfitpulsegobuzz-std-blk_blk   \n",
       "\n",
       "  Dial Shape Strap Color Strap Material Touchscreen  Battery Life (Days)  \\\n",
       "0        NaN         NaN            NaN         NaN                  8.0   \n",
       "1        NaN         NaN        Silicon         Yes                  3.5   \n",
       "2        NaN         NaN        Silicon         Yes                  8.0   \n",
       "3        NaN         NaN        Silicon         Yes                  3.5   \n",
       "4        NaN         NaN          Other         Yes                  8.0   \n",
       "\n",
       "  Bluetooth Display Size     Weight  \n",
       "0       Yes          NaN  35 - 50 g  \n",
       "1       Yes   1.8 inches  50 - 75 g  \n",
       "2       Yes   1.7 inches  35 - 50 g  \n",
       "3       Yes   1.8 inches      75g +  \n",
       "4       Yes   1.7 inches  35 - 50 g  "
      ]
     },
     "execution_count": 5,
     "metadata": {},
     "output_type": "execute_result"
    }
   ],
   "source": [
    "train_df.head()"
   ]
  },
  {
   "cell_type": "code",
   "execution_count": 6,
   "metadata": {},
   "outputs": [],
   "source": [
    "train_df.drop(['Unnamed: 0'], axis=1, inplace=True)"
   ]
  },
  {
   "cell_type": "code",
   "execution_count": 7,
   "metadata": {},
   "outputs": [
    {
     "data": {
      "text/html": [
       "<div>\n",
       "<style scoped>\n",
       "    .dataframe tbody tr th:only-of-type {\n",
       "        vertical-align: middle;\n",
       "    }\n",
       "\n",
       "    .dataframe tbody tr th {\n",
       "        vertical-align: top;\n",
       "    }\n",
       "\n",
       "    .dataframe thead th {\n",
       "        text-align: right;\n",
       "    }\n",
       "</style>\n",
       "<table border=\"1\" class=\"dataframe\">\n",
       "  <thead>\n",
       "    <tr style=\"text-align: right;\">\n",
       "      <th></th>\n",
       "      <th>Brand</th>\n",
       "      <th>Current Price</th>\n",
       "      <th>Original Price</th>\n",
       "      <th>Discount Percentage</th>\n",
       "      <th>Rating</th>\n",
       "      <th>Number OF Ratings</th>\n",
       "      <th>Model Name</th>\n",
       "      <th>Dial Shape</th>\n",
       "      <th>Strap Color</th>\n",
       "      <th>Strap Material</th>\n",
       "      <th>Touchscreen</th>\n",
       "      <th>Battery Life (Days)</th>\n",
       "      <th>Bluetooth</th>\n",
       "      <th>Display Size</th>\n",
       "      <th>Weight</th>\n",
       "    </tr>\n",
       "  </thead>\n",
       "  <tbody>\n",
       "    <tr>\n",
       "      <th>0</th>\n",
       "      <td>noise</td>\n",
       "      <td>82990.0</td>\n",
       "      <td>89900.0</td>\n",
       "      <td>7.686318</td>\n",
       "      <td>4.0</td>\n",
       "      <td>65.0</td>\n",
       "      <td>Wrb-sw-colorfitpro4alpha-std-rgld_pnk</td>\n",
       "      <td>NaN</td>\n",
       "      <td>NaN</td>\n",
       "      <td>NaN</td>\n",
       "      <td>NaN</td>\n",
       "      <td>8.0</td>\n",
       "      <td>Yes</td>\n",
       "      <td>NaN</td>\n",
       "      <td>35 - 50 g</td>\n",
       "    </tr>\n",
       "    <tr>\n",
       "      <th>1</th>\n",
       "      <td>fire-boltt</td>\n",
       "      <td>3799.0</td>\n",
       "      <td>16999.0</td>\n",
       "      <td>77.651627</td>\n",
       "      <td>4.3</td>\n",
       "      <td>20788.0</td>\n",
       "      <td>BSW046</td>\n",
       "      <td>NaN</td>\n",
       "      <td>NaN</td>\n",
       "      <td>Silicon</td>\n",
       "      <td>Yes</td>\n",
       "      <td>3.5</td>\n",
       "      <td>Yes</td>\n",
       "      <td>1.8 inches</td>\n",
       "      <td>50 - 75 g</td>\n",
       "    </tr>\n",
       "    <tr>\n",
       "      <th>2</th>\n",
       "      <td>boat</td>\n",
       "      <td>1999.0</td>\n",
       "      <td>7990.0</td>\n",
       "      <td>74.981227</td>\n",
       "      <td>3.8</td>\n",
       "      <td>21724.0</td>\n",
       "      <td>Wave Call</td>\n",
       "      <td>NaN</td>\n",
       "      <td>NaN</td>\n",
       "      <td>Silicon</td>\n",
       "      <td>Yes</td>\n",
       "      <td>8.0</td>\n",
       "      <td>Yes</td>\n",
       "      <td>1.7 inches</td>\n",
       "      <td>35 - 50 g</td>\n",
       "    </tr>\n",
       "    <tr>\n",
       "      <th>3</th>\n",
       "      <td>fire-boltt</td>\n",
       "      <td>1799.0</td>\n",
       "      <td>19999.0</td>\n",
       "      <td>91.004550</td>\n",
       "      <td>4.3</td>\n",
       "      <td>13244.0</td>\n",
       "      <td>BSW053</td>\n",
       "      <td>NaN</td>\n",
       "      <td>NaN</td>\n",
       "      <td>Silicon</td>\n",
       "      <td>Yes</td>\n",
       "      <td>3.5</td>\n",
       "      <td>Yes</td>\n",
       "      <td>1.8 inches</td>\n",
       "      <td>75g +</td>\n",
       "    </tr>\n",
       "    <tr>\n",
       "      <th>4</th>\n",
       "      <td>noise</td>\n",
       "      <td>1599.0</td>\n",
       "      <td>4999.0</td>\n",
       "      <td>68.013603</td>\n",
       "      <td>4.1</td>\n",
       "      <td>13901.0</td>\n",
       "      <td>Wrb-sw-colorfitpulsegobuzz-std-blk_blk</td>\n",
       "      <td>NaN</td>\n",
       "      <td>NaN</td>\n",
       "      <td>Other</td>\n",
       "      <td>Yes</td>\n",
       "      <td>8.0</td>\n",
       "      <td>Yes</td>\n",
       "      <td>1.7 inches</td>\n",
       "      <td>35 - 50 g</td>\n",
       "    </tr>\n",
       "  </tbody>\n",
       "</table>\n",
       "</div>"
      ],
      "text/plain": [
       "        Brand  Current Price  Original Price  Discount Percentage  Rating  \\\n",
       "0       noise        82990.0         89900.0             7.686318     4.0   \n",
       "1  fire-boltt         3799.0         16999.0            77.651627     4.3   \n",
       "2        boat         1999.0          7990.0            74.981227     3.8   \n",
       "3  fire-boltt         1799.0         19999.0            91.004550     4.3   \n",
       "4       noise         1599.0          4999.0            68.013603     4.1   \n",
       "\n",
       "   Number OF Ratings                              Model Name Dial Shape  \\\n",
       "0               65.0   Wrb-sw-colorfitpro4alpha-std-rgld_pnk        NaN   \n",
       "1            20788.0                                  BSW046        NaN   \n",
       "2            21724.0                               Wave Call        NaN   \n",
       "3            13244.0                                  BSW053        NaN   \n",
       "4            13901.0  Wrb-sw-colorfitpulsegobuzz-std-blk_blk        NaN   \n",
       "\n",
       "  Strap Color Strap Material Touchscreen  Battery Life (Days) Bluetooth  \\\n",
       "0         NaN            NaN         NaN                  8.0       Yes   \n",
       "1         NaN        Silicon         Yes                  3.5       Yes   \n",
       "2         NaN        Silicon         Yes                  8.0       Yes   \n",
       "3         NaN        Silicon         Yes                  3.5       Yes   \n",
       "4         NaN          Other         Yes                  8.0       Yes   \n",
       "\n",
       "  Display Size     Weight  \n",
       "0          NaN  35 - 50 g  \n",
       "1   1.8 inches  50 - 75 g  \n",
       "2   1.7 inches  35 - 50 g  \n",
       "3   1.8 inches      75g +  \n",
       "4   1.7 inches  35 - 50 g  "
      ]
     },
     "execution_count": 7,
     "metadata": {},
     "output_type": "execute_result"
    }
   ],
   "source": [
    "train_df.head()"
   ]
  },
  {
   "cell_type": "code",
   "execution_count": 8,
   "metadata": {},
   "outputs": [
    {
     "data": {
      "text/plain": [
       "30"
      ]
     },
     "execution_count": 8,
     "metadata": {},
     "output_type": "execute_result"
    }
   ],
   "source": [
    "train_df['Display Size'].isna().sum()"
   ]
  },
  {
   "cell_type": "code",
   "execution_count": 9,
   "metadata": {},
   "outputs": [
    {
     "data": {
      "text/plain": [
       "40"
      ]
     },
     "execution_count": 9,
     "metadata": {},
     "output_type": "execute_result"
    }
   ],
   "source": [
    "train_df['Display Size'].value_counts().count()"
   ]
  },
  {
   "cell_type": "code",
   "execution_count": 10,
   "metadata": {},
   "outputs": [],
   "source": [
    "train_df['Display Size'].fillna('0.0 inches', inplace=True)"
   ]
  },
  {
   "cell_type": "code",
   "execution_count": 11,
   "metadata": {},
   "outputs": [
    {
     "data": {
      "text/plain": [
       "0"
      ]
     },
     "execution_count": 11,
     "metadata": {},
     "output_type": "execute_result"
    }
   ],
   "source": [
    "train_df['Display Size'].isna().sum()"
   ]
  },
  {
   "cell_type": "code",
   "execution_count": 12,
   "metadata": {},
   "outputs": [],
   "source": [
    "train_df['Display Size'] = train_df['Display Size'].apply(lambda x: float(x.split()[0]))"
   ]
  },
  {
   "cell_type": "code",
   "execution_count": 13,
   "metadata": {},
   "outputs": [
    {
     "data": {
      "text/plain": [
       "0    0.0\n",
       "1    1.8\n",
       "2    1.7\n",
       "3    1.8\n",
       "4    1.7\n",
       "Name: Display Size, dtype: float64"
      ]
     },
     "execution_count": 13,
     "metadata": {},
     "output_type": "execute_result"
    }
   ],
   "source": [
    "train_df['Display Size'].head()"
   ]
  },
  {
   "cell_type": "code",
   "execution_count": 14,
   "metadata": {},
   "outputs": [],
   "source": [
    "train_df['Display Size'].replace(0.0, np.nan, inplace=True)"
   ]
  },
  {
   "cell_type": "code",
   "execution_count": 15,
   "metadata": {},
   "outputs": [
    {
     "data": {
      "text/plain": [
       "31"
      ]
     },
     "execution_count": 15,
     "metadata": {},
     "output_type": "execute_result"
    }
   ],
   "source": [
    "train_df['Display Size'].isna().sum()"
   ]
  },
  {
   "cell_type": "code",
   "execution_count": 16,
   "metadata": {},
   "outputs": [
    {
     "data": {
      "text/plain": [
       "20 - 35 g    80\n",
       "75g +        66\n",
       "35 - 50 g    58\n",
       "<= 20 g      43\n",
       "50 - 75 g    17\n",
       "Name: Weight, dtype: int64"
      ]
     },
     "execution_count": 16,
     "metadata": {},
     "output_type": "execute_result"
    }
   ],
   "source": [
    "train_df['Weight'].value_counts()"
   ]
  },
  {
   "cell_type": "code",
   "execution_count": 17,
   "metadata": {},
   "outputs": [
    {
     "data": {
      "text/plain": [
       "['20', '35']"
      ]
     },
     "execution_count": 17,
     "metadata": {},
     "output_type": "execute_result"
    }
   ],
   "source": [
    "re.findall('\\d+', '20 - 35 g ')"
   ]
  },
  {
   "cell_type": "code",
   "execution_count": 18,
   "metadata": {},
   "outputs": [],
   "source": [
    "cal = sum([int(x) for x in re.findall('\\d+', '20 - 35 g ')]) / 2\n",
    "train_df['Weight'].replace('20 - 35 g', cal, inplace=True)"
   ]
  },
  {
   "cell_type": "code",
   "execution_count": 19,
   "metadata": {},
   "outputs": [],
   "source": [
    "cal = sum([int(x) for x in re.findall('\\d+', '35 - 50 g')]) / 2\n",
    "train_df['Weight'].replace('35 - 50 g', cal, inplace=True)"
   ]
  },
  {
   "cell_type": "code",
   "execution_count": 20,
   "metadata": {},
   "outputs": [],
   "source": [
    "cal = sum([int(x) for x in re.findall('\\d+', '50 - 75 g')]) / 2\n",
    "train_df['Weight'].replace('50 - 75 g', cal, inplace=True)"
   ]
  },
  {
   "cell_type": "code",
   "execution_count": 21,
   "metadata": {},
   "outputs": [],
   "source": [
    "train_df['Weight'].replace('75g +', float(re.findall('\\d+', '75g +')[0]), inplace=True)"
   ]
  },
  {
   "cell_type": "code",
   "execution_count": 22,
   "metadata": {},
   "outputs": [],
   "source": [
    "train_df['Weight'].replace('<= 20 g', float(re.findall('\\d+', '<= 20 g')[0]), inplace=True)"
   ]
  },
  {
   "cell_type": "code",
   "execution_count": 23,
   "metadata": {},
   "outputs": [
    {
     "data": {
      "text/plain": [
       "27.5    80\n",
       "75.0    66\n",
       "42.5    58\n",
       "20.0    43\n",
       "62.5    17\n",
       "Name: Weight, dtype: int64"
      ]
     },
     "execution_count": 23,
     "metadata": {},
     "output_type": "execute_result"
    }
   ],
   "source": [
    "train_df['Weight'].value_counts()"
   ]
  },
  {
   "cell_type": "code",
   "execution_count": 24,
   "metadata": {},
   "outputs": [
    {
     "name": "stdout",
     "output_type": "stream",
     "text": [
      "<class 'pandas.core.frame.DataFrame'>\n",
      "Int64Index: 450 entries, 0 to 449\n",
      "Data columns (total 15 columns):\n",
      " #   Column               Non-Null Count  Dtype  \n",
      "---  ------               --------------  -----  \n",
      " 0   Brand                450 non-null    object \n",
      " 1   Current Price        440 non-null    float64\n",
      " 2   Original Price       377 non-null    float64\n",
      " 3   Discount Percentage  377 non-null    float64\n",
      " 4   Rating               444 non-null    float64\n",
      " 5   Number OF Ratings    391 non-null    float64\n",
      " 6   Model Name           415 non-null    object \n",
      " 7   Dial Shape           327 non-null    object \n",
      " 8   Strap Color          327 non-null    object \n",
      " 9   Strap Material       381 non-null    object \n",
      " 10  Touchscreen          413 non-null    object \n",
      " 11  Battery Life (Days)  418 non-null    float64\n",
      " 12  Bluetooth            444 non-null    object \n",
      " 13  Display Size         419 non-null    float64\n",
      " 14  Weight               264 non-null    float64\n",
      "dtypes: float64(8), object(7)\n",
      "memory usage: 56.2+ KB\n"
     ]
    }
   ],
   "source": [
    "train_df.info()"
   ]
  },
  {
   "cell_type": "code",
   "execution_count": 25,
   "metadata": {},
   "outputs": [
    {
     "data": {
      "text/html": [
       "<div>\n",
       "<style scoped>\n",
       "    .dataframe tbody tr th:only-of-type {\n",
       "        vertical-align: middle;\n",
       "    }\n",
       "\n",
       "    .dataframe tbody tr th {\n",
       "        vertical-align: top;\n",
       "    }\n",
       "\n",
       "    .dataframe thead th {\n",
       "        text-align: right;\n",
       "    }\n",
       "</style>\n",
       "<table border=\"1\" class=\"dataframe\">\n",
       "  <thead>\n",
       "    <tr style=\"text-align: right;\">\n",
       "      <th></th>\n",
       "      <th>Brand</th>\n",
       "      <th>Current Price</th>\n",
       "      <th>Original Price</th>\n",
       "      <th>Discount Percentage</th>\n",
       "      <th>Rating</th>\n",
       "      <th>Number OF Ratings</th>\n",
       "      <th>Model Name</th>\n",
       "      <th>Dial Shape</th>\n",
       "      <th>Strap Color</th>\n",
       "      <th>Strap Material</th>\n",
       "      <th>Touchscreen</th>\n",
       "      <th>Battery Life (Days)</th>\n",
       "      <th>Bluetooth</th>\n",
       "      <th>Display Size</th>\n",
       "      <th>Weight</th>\n",
       "    </tr>\n",
       "  </thead>\n",
       "  <tbody>\n",
       "    <tr>\n",
       "      <th>0</th>\n",
       "      <td>noise</td>\n",
       "      <td>82990.0</td>\n",
       "      <td>89900.0</td>\n",
       "      <td>7.686318</td>\n",
       "      <td>4.0</td>\n",
       "      <td>65.0</td>\n",
       "      <td>Wrb-sw-colorfitpro4alpha-std-rgld_pnk</td>\n",
       "      <td>NaN</td>\n",
       "      <td>NaN</td>\n",
       "      <td>NaN</td>\n",
       "      <td>NaN</td>\n",
       "      <td>8.0</td>\n",
       "      <td>Yes</td>\n",
       "      <td>NaN</td>\n",
       "      <td>42.5</td>\n",
       "    </tr>\n",
       "    <tr>\n",
       "      <th>1</th>\n",
       "      <td>fire-boltt</td>\n",
       "      <td>3799.0</td>\n",
       "      <td>16999.0</td>\n",
       "      <td>77.651627</td>\n",
       "      <td>4.3</td>\n",
       "      <td>20788.0</td>\n",
       "      <td>BSW046</td>\n",
       "      <td>NaN</td>\n",
       "      <td>NaN</td>\n",
       "      <td>Silicon</td>\n",
       "      <td>Yes</td>\n",
       "      <td>3.5</td>\n",
       "      <td>Yes</td>\n",
       "      <td>1.8</td>\n",
       "      <td>62.5</td>\n",
       "    </tr>\n",
       "    <tr>\n",
       "      <th>2</th>\n",
       "      <td>boat</td>\n",
       "      <td>1999.0</td>\n",
       "      <td>7990.0</td>\n",
       "      <td>74.981227</td>\n",
       "      <td>3.8</td>\n",
       "      <td>21724.0</td>\n",
       "      <td>Wave Call</td>\n",
       "      <td>NaN</td>\n",
       "      <td>NaN</td>\n",
       "      <td>Silicon</td>\n",
       "      <td>Yes</td>\n",
       "      <td>8.0</td>\n",
       "      <td>Yes</td>\n",
       "      <td>1.7</td>\n",
       "      <td>42.5</td>\n",
       "    </tr>\n",
       "    <tr>\n",
       "      <th>3</th>\n",
       "      <td>fire-boltt</td>\n",
       "      <td>1799.0</td>\n",
       "      <td>19999.0</td>\n",
       "      <td>91.004550</td>\n",
       "      <td>4.3</td>\n",
       "      <td>13244.0</td>\n",
       "      <td>BSW053</td>\n",
       "      <td>NaN</td>\n",
       "      <td>NaN</td>\n",
       "      <td>Silicon</td>\n",
       "      <td>Yes</td>\n",
       "      <td>3.5</td>\n",
       "      <td>Yes</td>\n",
       "      <td>1.8</td>\n",
       "      <td>75.0</td>\n",
       "    </tr>\n",
       "    <tr>\n",
       "      <th>4</th>\n",
       "      <td>noise</td>\n",
       "      <td>1599.0</td>\n",
       "      <td>4999.0</td>\n",
       "      <td>68.013603</td>\n",
       "      <td>4.1</td>\n",
       "      <td>13901.0</td>\n",
       "      <td>Wrb-sw-colorfitpulsegobuzz-std-blk_blk</td>\n",
       "      <td>NaN</td>\n",
       "      <td>NaN</td>\n",
       "      <td>Other</td>\n",
       "      <td>Yes</td>\n",
       "      <td>8.0</td>\n",
       "      <td>Yes</td>\n",
       "      <td>1.7</td>\n",
       "      <td>42.5</td>\n",
       "    </tr>\n",
       "  </tbody>\n",
       "</table>\n",
       "</div>"
      ],
      "text/plain": [
       "        Brand  Current Price  Original Price  Discount Percentage  Rating  \\\n",
       "0       noise        82990.0         89900.0             7.686318     4.0   \n",
       "1  fire-boltt         3799.0         16999.0            77.651627     4.3   \n",
       "2        boat         1999.0          7990.0            74.981227     3.8   \n",
       "3  fire-boltt         1799.0         19999.0            91.004550     4.3   \n",
       "4       noise         1599.0          4999.0            68.013603     4.1   \n",
       "\n",
       "   Number OF Ratings                              Model Name Dial Shape  \\\n",
       "0               65.0   Wrb-sw-colorfitpro4alpha-std-rgld_pnk        NaN   \n",
       "1            20788.0                                  BSW046        NaN   \n",
       "2            21724.0                               Wave Call        NaN   \n",
       "3            13244.0                                  BSW053        NaN   \n",
       "4            13901.0  Wrb-sw-colorfitpulsegobuzz-std-blk_blk        NaN   \n",
       "\n",
       "  Strap Color Strap Material Touchscreen  Battery Life (Days) Bluetooth  \\\n",
       "0         NaN            NaN         NaN                  8.0       Yes   \n",
       "1         NaN        Silicon         Yes                  3.5       Yes   \n",
       "2         NaN        Silicon         Yes                  8.0       Yes   \n",
       "3         NaN        Silicon         Yes                  3.5       Yes   \n",
       "4         NaN          Other         Yes                  8.0       Yes   \n",
       "\n",
       "   Display Size  Weight  \n",
       "0           NaN    42.5  \n",
       "1           1.8    62.5  \n",
       "2           1.7    42.5  \n",
       "3           1.8    75.0  \n",
       "4           1.7    42.5  "
      ]
     },
     "execution_count": 25,
     "metadata": {},
     "output_type": "execute_result"
    }
   ],
   "source": [
    "train_df.head()"
   ]
  },
  {
   "cell_type": "code",
   "execution_count": 26,
   "metadata": {},
   "outputs": [],
   "source": [
    "train_df['Discount Price'] = (train_df['Original Price'] * (-train_df['Discount Percentage'])) / 100"
   ]
  },
  {
   "cell_type": "code",
   "execution_count": 27,
   "metadata": {},
   "outputs": [],
   "source": [
    "train_df.drop(['Discount Percentage'], axis=1, inplace=True)"
   ]
  },
  {
   "attachments": {},
   "cell_type": "markdown",
   "metadata": {},
   "source": [
    "#### Numerical Data"
   ]
  },
  {
   "cell_type": "code",
   "execution_count": 28,
   "metadata": {},
   "outputs": [],
   "source": [
    "numerical_col = [feature for feature in train_df.columns if train_df[feature].dtype == 'float64']"
   ]
  },
  {
   "cell_type": "code",
   "execution_count": 29,
   "metadata": {},
   "outputs": [
    {
     "data": {
      "text/plain": [
       "['Current Price',\n",
       " 'Original Price',\n",
       " 'Rating',\n",
       " 'Number OF Ratings',\n",
       " 'Battery Life (Days)',\n",
       " 'Display Size',\n",
       " 'Weight',\n",
       " 'Discount Price']"
      ]
     },
     "execution_count": 29,
     "metadata": {},
     "output_type": "execute_result"
    }
   ],
   "source": [
    "numerical_col"
   ]
  },
  {
   "cell_type": "code",
   "execution_count": 30,
   "metadata": {},
   "outputs": [
    {
     "data": {
      "text/html": [
       "<div>\n",
       "<style scoped>\n",
       "    .dataframe tbody tr th:only-of-type {\n",
       "        vertical-align: middle;\n",
       "    }\n",
       "\n",
       "    .dataframe tbody tr th {\n",
       "        vertical-align: top;\n",
       "    }\n",
       "\n",
       "    .dataframe thead th {\n",
       "        text-align: right;\n",
       "    }\n",
       "</style>\n",
       "<table border=\"1\" class=\"dataframe\">\n",
       "  <thead>\n",
       "    <tr style=\"text-align: right;\">\n",
       "      <th></th>\n",
       "      <th>Current Price</th>\n",
       "      <th>Original Price</th>\n",
       "      <th>Rating</th>\n",
       "      <th>Number OF Ratings</th>\n",
       "      <th>Battery Life (Days)</th>\n",
       "      <th>Display Size</th>\n",
       "      <th>Weight</th>\n",
       "      <th>Discount Price</th>\n",
       "    </tr>\n",
       "  </thead>\n",
       "  <tbody>\n",
       "    <tr>\n",
       "      <th>0</th>\n",
       "      <td>82990.0</td>\n",
       "      <td>89900.0</td>\n",
       "      <td>4.0</td>\n",
       "      <td>65.0</td>\n",
       "      <td>8.0</td>\n",
       "      <td>NaN</td>\n",
       "      <td>42.5</td>\n",
       "      <td>-6910.000000</td>\n",
       "    </tr>\n",
       "    <tr>\n",
       "      <th>1</th>\n",
       "      <td>3799.0</td>\n",
       "      <td>16999.0</td>\n",
       "      <td>4.3</td>\n",
       "      <td>20788.0</td>\n",
       "      <td>3.5</td>\n",
       "      <td>1.8</td>\n",
       "      <td>62.5</td>\n",
       "      <td>-13200.000001</td>\n",
       "    </tr>\n",
       "    <tr>\n",
       "      <th>2</th>\n",
       "      <td>1999.0</td>\n",
       "      <td>7990.0</td>\n",
       "      <td>3.8</td>\n",
       "      <td>21724.0</td>\n",
       "      <td>8.0</td>\n",
       "      <td>1.7</td>\n",
       "      <td>42.5</td>\n",
       "      <td>-5991.000000</td>\n",
       "    </tr>\n",
       "    <tr>\n",
       "      <th>3</th>\n",
       "      <td>1799.0</td>\n",
       "      <td>19999.0</td>\n",
       "      <td>4.3</td>\n",
       "      <td>13244.0</td>\n",
       "      <td>3.5</td>\n",
       "      <td>1.8</td>\n",
       "      <td>75.0</td>\n",
       "      <td>-18200.000000</td>\n",
       "    </tr>\n",
       "    <tr>\n",
       "      <th>4</th>\n",
       "      <td>1599.0</td>\n",
       "      <td>4999.0</td>\n",
       "      <td>4.1</td>\n",
       "      <td>13901.0</td>\n",
       "      <td>8.0</td>\n",
       "      <td>1.7</td>\n",
       "      <td>42.5</td>\n",
       "      <td>-3400.000000</td>\n",
       "    </tr>\n",
       "  </tbody>\n",
       "</table>\n",
       "</div>"
      ],
      "text/plain": [
       "   Current Price  Original Price  Rating  Number OF Ratings  \\\n",
       "0        82990.0         89900.0     4.0               65.0   \n",
       "1         3799.0         16999.0     4.3            20788.0   \n",
       "2         1999.0          7990.0     3.8            21724.0   \n",
       "3         1799.0         19999.0     4.3            13244.0   \n",
       "4         1599.0          4999.0     4.1            13901.0   \n",
       "\n",
       "   Battery Life (Days)  Display Size  Weight  Discount Price  \n",
       "0                  8.0           NaN    42.5    -6910.000000  \n",
       "1                  3.5           1.8    62.5   -13200.000001  \n",
       "2                  8.0           1.7    42.5    -5991.000000  \n",
       "3                  3.5           1.8    75.0   -18200.000000  \n",
       "4                  8.0           1.7    42.5    -3400.000000  "
      ]
     },
     "execution_count": 30,
     "metadata": {},
     "output_type": "execute_result"
    }
   ],
   "source": [
    "train_df[numerical_col].head()"
   ]
  },
  {
   "cell_type": "code",
   "execution_count": 31,
   "metadata": {},
   "outputs": [
    {
     "data": {
      "image/png": "[encoded data removed]",
      "text/plain": [
       "<Figure size 1400x800 with 9 Axes>"
      ]
     },
     "metadata": {},
     "output_type": "display_data"
    }
   ],
   "source": [
    "fig , axes = plt.subplots(nrows=3, ncols=3, figsize=(14, 8))\n",
    "\n",
    "for i , colum in enumerate(numerical_col):\n",
    "    row = i // 3\n",
    "    col = i % 3\n",
    "    ax = axes[row, col]\n",
    "    sns.kdeplot(data=train_df[colum], ax=ax, fill=True)\n",
    "\n",
    "fig.tight_layout()\n",
    "plt.show()"
   ]
  },
  {
   "cell_type": "code",
   "execution_count": 32,
   "metadata": {},
   "outputs": [
    {
     "data": {
      "image/png": "[encoded data removed]",
      "text/plain": [
       "<Figure size 1400x800 with 9 Axes>"
      ]
     },
     "metadata": {},
     "output_type": "display_data"
    }
   ],
   "source": [
    "fig , axes = plt.subplots(nrows=3, ncols=3, figsize=(14, 8))\n",
    "\n",
    "for i , colum in enumerate(numerical_col):\n",
    "    row = i // 3\n",
    "    col = i % 3\n",
    "    ax = axes[row, col]\n",
    "    sns.boxplot(x=train_df[colum], ax=ax)\n",
    "\n",
    "fig.tight_layout()\n",
    "plt.show()"
   ]
  },
  {
   "cell_type": "code",
   "execution_count": 33,
   "metadata": {},
   "outputs": [],
   "source": [
    "def remove_outliers_IQR(data, col):\n",
    "    Q1 = data[col].quantile(0.25)\n",
    "    Q3 = data[col].quantile(0.75)\n",
    "    IQR = Q3 - Q1\n",
    "    lower_bound = Q1 - 1.5 * IQR\n",
    "    upper_bound = Q3 + 1.5 * IQR\n",
    "    return data[(data[col] > lower_bound) & (data[col] < upper_bound)]"
   ]
  },
  {
   "cell_type": "code",
   "execution_count": 34,
   "metadata": {},
   "outputs": [
    {
     "data": {
      "text/plain": [
       "Index(['Brand', 'Current Price', 'Original Price', 'Rating',\n",
       "       'Number OF Ratings', 'Model Name', 'Dial Shape', 'Strap Color',\n",
       "       'Strap Material', 'Touchscreen', 'Battery Life (Days)', 'Bluetooth',\n",
       "       'Display Size', 'Weight', 'Discount Price'],\n",
       "      dtype='object')"
      ]
     },
     "execution_count": 34,
     "metadata": {},
     "output_type": "execute_result"
    }
   ],
   "source": [
    "train_df.columns"
   ]
  },
  {
   "cell_type": "code",
   "execution_count": 35,
   "metadata": {},
   "outputs": [
    {
     "data": {
      "text/plain": [
       "(450, 15)"
      ]
     },
     "execution_count": 35,
     "metadata": {},
     "output_type": "execute_result"
    }
   ],
   "source": [
    "train_df.shape"
   ]
  },
  {
   "cell_type": "code",
   "execution_count": 36,
   "metadata": {},
   "outputs": [],
   "source": [
    "import_col = ['Current Price', 'Original Price', 'Rating', 'Number OF Ratings', 'Display Size']"
   ]
  },
  {
   "cell_type": "code",
   "execution_count": 37,
   "metadata": {},
   "outputs": [],
   "source": [
    "for col in import_col:\n",
    "    train_df = remove_outliers_IQR(train_df, col)"
   ]
  },
  {
   "cell_type": "code",
   "execution_count": 38,
   "metadata": {},
   "outputs": [
    {
     "name": "stdout",
     "output_type": "stream",
     "text": [
      "Current Price\n",
      "Original Price\n",
      "Rating\n",
      "Number OF Ratings\n",
      "Battery Life (Days)\n",
      "Display Size\n",
      "Weight\n",
      "Discount Price\n"
     ]
    }
   ],
   "source": [
    "for col in numerical_col:\n",
    "    print(col)\n",
    "    train_df[col].fillna(train_df[col].median(), inplace=True)"
   ]
  },
  {
   "cell_type": "code",
   "execution_count": 39,
   "metadata": {},
   "outputs": [
    {
     "data": {
      "text/plain": [
       "(181, 15)"
      ]
     },
     "execution_count": 39,
     "metadata": {},
     "output_type": "execute_result"
    }
   ],
   "source": [
    "train_df.shape"
   ]
  },
  {
   "cell_type": "code",
   "execution_count": 40,
   "metadata": {},
   "outputs": [
    {
     "data": {
      "text/plain": [
       "Brand                   0\n",
       "Current Price           0\n",
       "Original Price          0\n",
       "Rating                  0\n",
       "Number OF Ratings       0\n",
       "Model Name              9\n",
       "Dial Shape             65\n",
       "Strap Color            65\n",
       "Strap Material         26\n",
       "Touchscreen             6\n",
       "Battery Life (Days)     0\n",
       "Bluetooth               0\n",
       "Display Size            0\n",
       "Weight                  0\n",
       "Discount Price          0\n",
       "dtype: int64"
      ]
     },
     "execution_count": 40,
     "metadata": {},
     "output_type": "execute_result"
    }
   ],
   "source": [
    "train_df.isna().sum()"
   ]
  },
  {
   "cell_type": "code",
   "execution_count": 41,
   "metadata": {},
   "outputs": [
    {
     "data": {
      "text/html": [
       "<div>\n",
       "<style scoped>\n",
       "    .dataframe tbody tr th:only-of-type {\n",
       "        vertical-align: middle;\n",
       "    }\n",
       "\n",
       "    .dataframe tbody tr th {\n",
       "        vertical-align: top;\n",
       "    }\n",
       "\n",
       "    .dataframe thead th {\n",
       "        text-align: right;\n",
       "    }\n",
       "</style>\n",
       "<table border=\"1\" class=\"dataframe\">\n",
       "  <thead>\n",
       "    <tr style=\"text-align: right;\">\n",
       "      <th></th>\n",
       "      <th>Current Price</th>\n",
       "      <th>Original Price</th>\n",
       "      <th>Rating</th>\n",
       "      <th>Number OF Ratings</th>\n",
       "      <th>Battery Life (Days)</th>\n",
       "      <th>Display Size</th>\n",
       "      <th>Weight</th>\n",
       "      <th>Discount Price</th>\n",
       "    </tr>\n",
       "  </thead>\n",
       "  <tbody>\n",
       "    <tr>\n",
       "      <th>1</th>\n",
       "      <td>3799.0</td>\n",
       "      <td>16999.0</td>\n",
       "      <td>4.3</td>\n",
       "      <td>20788.0</td>\n",
       "      <td>3.5</td>\n",
       "      <td>1.8</td>\n",
       "      <td>62.5</td>\n",
       "      <td>-13200.000001</td>\n",
       "    </tr>\n",
       "    <tr>\n",
       "      <th>2</th>\n",
       "      <td>1999.0</td>\n",
       "      <td>7990.0</td>\n",
       "      <td>3.8</td>\n",
       "      <td>21724.0</td>\n",
       "      <td>8.0</td>\n",
       "      <td>1.7</td>\n",
       "      <td>42.5</td>\n",
       "      <td>-5991.000000</td>\n",
       "    </tr>\n",
       "    <tr>\n",
       "      <th>3</th>\n",
       "      <td>1799.0</td>\n",
       "      <td>19999.0</td>\n",
       "      <td>4.3</td>\n",
       "      <td>13244.0</td>\n",
       "      <td>3.5</td>\n",
       "      <td>1.8</td>\n",
       "      <td>75.0</td>\n",
       "      <td>-18200.000000</td>\n",
       "    </tr>\n",
       "    <tr>\n",
       "      <th>4</th>\n",
       "      <td>1599.0</td>\n",
       "      <td>4999.0</td>\n",
       "      <td>4.1</td>\n",
       "      <td>13901.0</td>\n",
       "      <td>8.0</td>\n",
       "      <td>1.7</td>\n",
       "      <td>42.5</td>\n",
       "      <td>-3400.000000</td>\n",
       "    </tr>\n",
       "    <tr>\n",
       "      <th>5</th>\n",
       "      <td>1499.0</td>\n",
       "      <td>3999.0</td>\n",
       "      <td>4.0</td>\n",
       "      <td>32704.0</td>\n",
       "      <td>8.0</td>\n",
       "      <td>1.7</td>\n",
       "      <td>42.5</td>\n",
       "      <td>-2500.000000</td>\n",
       "    </tr>\n",
       "  </tbody>\n",
       "</table>\n",
       "</div>"
      ],
      "text/plain": [
       "   Current Price  Original Price  Rating  Number OF Ratings  \\\n",
       "1         3799.0         16999.0     4.3            20788.0   \n",
       "2         1999.0          7990.0     3.8            21724.0   \n",
       "3         1799.0         19999.0     4.3            13244.0   \n",
       "4         1599.0          4999.0     4.1            13901.0   \n",
       "5         1499.0          3999.0     4.0            32704.0   \n",
       "\n",
       "   Battery Life (Days)  Display Size  Weight  Discount Price  \n",
       "1                  3.5           1.8    62.5   -13200.000001  \n",
       "2                  8.0           1.7    42.5    -5991.000000  \n",
       "3                  3.5           1.8    75.0   -18200.000000  \n",
       "4                  8.0           1.7    42.5    -3400.000000  \n",
       "5                  8.0           1.7    42.5    -2500.000000  "
      ]
     },
     "execution_count": 41,
     "metadata": {},
     "output_type": "execute_result"
    }
   ],
   "source": [
    "train_df[numerical_col].head()"
   ]
  },
  {
   "cell_type": "code",
   "execution_count": 42,
   "metadata": {},
   "outputs": [],
   "source": [
    "from sklearn.preprocessing import MinMaxScaler"
   ]
  },
  {
   "cell_type": "code",
   "execution_count": 43,
   "metadata": {},
   "outputs": [],
   "source": [
    "scaler = MinMaxScaler()"
   ]
  },
  {
   "cell_type": "code",
   "execution_count": 44,
   "metadata": {},
   "outputs": [],
   "source": [
    "data = scaler.fit_transform(train_df[numerical_col[:-1]])"
   ]
  },
  {
   "cell_type": "code",
   "execution_count": 45,
   "metadata": {},
   "outputs": [
    {
     "data": {
      "text/plain": [
       "array([[0.1116311 , 0.56836451, 0.83333333, ..., 0.12941176, 0.61538462,\n",
       "        0.77272727],\n",
       "       [0.03434803, 0.22996018, 0.41666667, ..., 0.34117647, 0.53846154,\n",
       "        0.40909091],\n",
       "       [0.02576102, 0.68105326, 0.83333333, ..., 0.12941176, 0.61538462,\n",
       "        1.        ],\n",
       "       ...,\n",
       "       [0.02996866, 0.00116445, 0.        , ..., 1.        , 1.        ,\n",
       "        0.40909091],\n",
       "       [0.12021811, 0.30542409, 0.33333333, ..., 1.        , 0.53846154,\n",
       "        0.40909091],\n",
       "       [0.12021811, 0.30542409, 0.33333333, ..., 1.        , 0.53846154,\n",
       "        0.40909091]])"
      ]
     },
     "execution_count": 45,
     "metadata": {},
     "output_type": "execute_result"
    }
   ],
   "source": [
    "data"
   ]
  },
  {
   "cell_type": "code",
   "execution_count": 46,
   "metadata": {},
   "outputs": [],
   "source": [
    "data = pd.DataFrame(data, columns=numerical_col[:-1])"
   ]
  },
  {
   "cell_type": "code",
   "execution_count": 47,
   "metadata": {},
   "outputs": [
    {
     "data": {
      "text/html": [
       "<div>\n",
       "<style scoped>\n",
       "    .dataframe tbody tr th:only-of-type {\n",
       "        vertical-align: middle;\n",
       "    }\n",
       "\n",
       "    .dataframe tbody tr th {\n",
       "        vertical-align: top;\n",
       "    }\n",
       "\n",
       "    .dataframe thead th {\n",
       "        text-align: right;\n",
       "    }\n",
       "</style>\n",
       "<table border=\"1\" class=\"dataframe\">\n",
       "  <thead>\n",
       "    <tr style=\"text-align: right;\">\n",
       "      <th></th>\n",
       "      <th>Current Price</th>\n",
       "      <th>Original Price</th>\n",
       "      <th>Rating</th>\n",
       "      <th>Number OF Ratings</th>\n",
       "      <th>Battery Life (Days)</th>\n",
       "      <th>Display Size</th>\n",
       "      <th>Weight</th>\n",
       "    </tr>\n",
       "  </thead>\n",
       "  <tbody>\n",
       "    <tr>\n",
       "      <th>0</th>\n",
       "      <td>0.111631</td>\n",
       "      <td>0.568365</td>\n",
       "      <td>0.833333</td>\n",
       "      <td>0.622082</td>\n",
       "      <td>0.129412</td>\n",
       "      <td>0.615385</td>\n",
       "      <td>0.772727</td>\n",
       "    </tr>\n",
       "    <tr>\n",
       "      <th>1</th>\n",
       "      <td>0.034348</td>\n",
       "      <td>0.229960</td>\n",
       "      <td>0.416667</td>\n",
       "      <td>0.650096</td>\n",
       "      <td>0.341176</td>\n",
       "      <td>0.538462</td>\n",
       "      <td>0.409091</td>\n",
       "    </tr>\n",
       "    <tr>\n",
       "      <th>2</th>\n",
       "      <td>0.025761</td>\n",
       "      <td>0.681053</td>\n",
       "      <td>0.833333</td>\n",
       "      <td>0.396295</td>\n",
       "      <td>0.129412</td>\n",
       "      <td>0.615385</td>\n",
       "      <td>1.000000</td>\n",
       "    </tr>\n",
       "    <tr>\n",
       "      <th>3</th>\n",
       "      <td>0.017174</td>\n",
       "      <td>0.117609</td>\n",
       "      <td>0.666667</td>\n",
       "      <td>0.415958</td>\n",
       "      <td>0.341176</td>\n",
       "      <td>0.538462</td>\n",
       "      <td>0.409091</td>\n",
       "    </tr>\n",
       "    <tr>\n",
       "      <th>4</th>\n",
       "      <td>0.012881</td>\n",
       "      <td>0.080047</td>\n",
       "      <td>0.583333</td>\n",
       "      <td>0.978720</td>\n",
       "      <td>0.341176</td>\n",
       "      <td>0.538462</td>\n",
       "      <td>0.409091</td>\n",
       "    </tr>\n",
       "  </tbody>\n",
       "</table>\n",
       "</div>"
      ],
      "text/plain": [
       "   Current Price  Original Price    Rating  Number OF Ratings  \\\n",
       "0       0.111631        0.568365  0.833333           0.622082   \n",
       "1       0.034348        0.229960  0.416667           0.650096   \n",
       "2       0.025761        0.681053  0.833333           0.396295   \n",
       "3       0.017174        0.117609  0.666667           0.415958   \n",
       "4       0.012881        0.080047  0.583333           0.978720   \n",
       "\n",
       "   Battery Life (Days)  Display Size    Weight  \n",
       "0             0.129412      0.615385  0.772727  \n",
       "1             0.341176      0.538462  0.409091  \n",
       "2             0.129412      0.615385  1.000000  \n",
       "3             0.341176      0.538462  0.409091  \n",
       "4             0.341176      0.538462  0.409091  "
      ]
     },
     "execution_count": 47,
     "metadata": {},
     "output_type": "execute_result"
    }
   ],
   "source": [
    "data.head()"
   ]
  },
  {
   "cell_type": "code",
   "execution_count": 48,
   "metadata": {},
   "outputs": [
    {
     "data": {
      "text/plain": [
       "((181, 7), (181, 15))"
      ]
     },
     "execution_count": 48,
     "metadata": {},
     "output_type": "execute_result"
    }
   ],
   "source": [
    "data.shape, train_df.shape"
   ]
  },
  {
   "cell_type": "code",
   "execution_count": 49,
   "metadata": {},
   "outputs": [
    {
     "data": {
      "text/plain": [
       "Current Price          0\n",
       "Original Price         0\n",
       "Rating                 0\n",
       "Number OF Ratings      0\n",
       "Battery Life (Days)    0\n",
       "Display Size           0\n",
       "Weight                 0\n",
       "dtype: int64"
      ]
     },
     "execution_count": 49,
     "metadata": {},
     "output_type": "execute_result"
    }
   ],
   "source": [
    "data.isna().sum()"
   ]
  },
  {
   "cell_type": "code",
   "execution_count": 50,
   "metadata": {},
   "outputs": [],
   "source": [
    "train_df.drop(numerical_col[:-1], axis=1, inplace=True)"
   ]
  },
  {
   "cell_type": "code",
   "execution_count": 51,
   "metadata": {},
   "outputs": [
    {
     "data": {
      "text/html": [
       "<div>\n",
       "<style scoped>\n",
       "    .dataframe tbody tr th:only-of-type {\n",
       "        vertical-align: middle;\n",
       "    }\n",
       "\n",
       "    .dataframe tbody tr th {\n",
       "        vertical-align: top;\n",
       "    }\n",
       "\n",
       "    .dataframe thead th {\n",
       "        text-align: right;\n",
       "    }\n",
       "</style>\n",
       "<table border=\"1\" class=\"dataframe\">\n",
       "  <thead>\n",
       "    <tr style=\"text-align: right;\">\n",
       "      <th></th>\n",
       "      <th>Brand</th>\n",
       "      <th>Model Name</th>\n",
       "      <th>Dial Shape</th>\n",
       "      <th>Strap Color</th>\n",
       "      <th>Strap Material</th>\n",
       "      <th>Touchscreen</th>\n",
       "      <th>Bluetooth</th>\n",
       "      <th>Discount Price</th>\n",
       "    </tr>\n",
       "  </thead>\n",
       "  <tbody>\n",
       "    <tr>\n",
       "      <th>1</th>\n",
       "      <td>fire-boltt</td>\n",
       "      <td>BSW046</td>\n",
       "      <td>NaN</td>\n",
       "      <td>NaN</td>\n",
       "      <td>Silicon</td>\n",
       "      <td>Yes</td>\n",
       "      <td>Yes</td>\n",
       "      <td>-13200.000001</td>\n",
       "    </tr>\n",
       "    <tr>\n",
       "      <th>2</th>\n",
       "      <td>boat</td>\n",
       "      <td>Wave Call</td>\n",
       "      <td>NaN</td>\n",
       "      <td>NaN</td>\n",
       "      <td>Silicon</td>\n",
       "      <td>Yes</td>\n",
       "      <td>Yes</td>\n",
       "      <td>-5991.000000</td>\n",
       "    </tr>\n",
       "    <tr>\n",
       "      <th>3</th>\n",
       "      <td>fire-boltt</td>\n",
       "      <td>BSW053</td>\n",
       "      <td>NaN</td>\n",
       "      <td>NaN</td>\n",
       "      <td>Silicon</td>\n",
       "      <td>Yes</td>\n",
       "      <td>Yes</td>\n",
       "      <td>-18200.000000</td>\n",
       "    </tr>\n",
       "    <tr>\n",
       "      <th>4</th>\n",
       "      <td>noise</td>\n",
       "      <td>Wrb-sw-colorfitpulsegobuzz-std-blk_blk</td>\n",
       "      <td>NaN</td>\n",
       "      <td>NaN</td>\n",
       "      <td>Other</td>\n",
       "      <td>Yes</td>\n",
       "      <td>Yes</td>\n",
       "      <td>-3400.000000</td>\n",
       "    </tr>\n",
       "    <tr>\n",
       "      <th>5</th>\n",
       "      <td>noise</td>\n",
       "      <td>NSW-05</td>\n",
       "      <td>NaN</td>\n",
       "      <td>NaN</td>\n",
       "      <td>Other</td>\n",
       "      <td>Yes</td>\n",
       "      <td>Yes</td>\n",
       "      <td>-2500.000000</td>\n",
       "    </tr>\n",
       "  </tbody>\n",
       "</table>\n",
       "</div>"
      ],
      "text/plain": [
       "        Brand                              Model Name Dial Shape Strap Color  \\\n",
       "1  fire-boltt                                  BSW046        NaN         NaN   \n",
       "2        boat                               Wave Call        NaN         NaN   \n",
       "3  fire-boltt                                  BSW053        NaN         NaN   \n",
       "4       noise  Wrb-sw-colorfitpulsegobuzz-std-blk_blk        NaN         NaN   \n",
       "5       noise                                  NSW-05        NaN         NaN   \n",
       "\n",
       "  Strap Material Touchscreen Bluetooth  Discount Price  \n",
       "1        Silicon         Yes       Yes   -13200.000001  \n",
       "2        Silicon         Yes       Yes    -5991.000000  \n",
       "3        Silicon         Yes       Yes   -18200.000000  \n",
       "4          Other         Yes       Yes    -3400.000000  \n",
       "5          Other         Yes       Yes    -2500.000000  "
      ]
     },
     "execution_count": 51,
     "metadata": {},
     "output_type": "execute_result"
    }
   ],
   "source": [
    "train_df.head()"
   ]
  },
  {
   "cell_type": "code",
   "execution_count": 52,
   "metadata": {},
   "outputs": [
    {
     "data": {
      "text/plain": [
       "Brand              0\n",
       "Model Name         9\n",
       "Dial Shape        65\n",
       "Strap Color       65\n",
       "Strap Material    26\n",
       "Touchscreen        6\n",
       "Bluetooth          0\n",
       "Discount Price     0\n",
       "dtype: int64"
      ]
     },
     "execution_count": 52,
     "metadata": {},
     "output_type": "execute_result"
    }
   ],
   "source": [
    "train_df.isna().sum()"
   ]
  },
  {
   "cell_type": "code",
   "execution_count": 53,
   "metadata": {},
   "outputs": [
    {
     "data": {
      "text/plain": [
       "((181, 8), (181, 7))"
      ]
     },
     "execution_count": 53,
     "metadata": {},
     "output_type": "execute_result"
    }
   ],
   "source": [
    "train_df.shape, data.shape"
   ]
  },
  {
   "cell_type": "code",
   "execution_count": 54,
   "metadata": {},
   "outputs": [
    {
     "data": {
      "text/html": [
       "<div>\n",
       "<style scoped>\n",
       "    .dataframe tbody tr th:only-of-type {\n",
       "        vertical-align: middle;\n",
       "    }\n",
       "\n",
       "    .dataframe tbody tr th {\n",
       "        vertical-align: top;\n",
       "    }\n",
       "\n",
       "    .dataframe thead th {\n",
       "        text-align: right;\n",
       "    }\n",
       "</style>\n",
       "<table border=\"1\" class=\"dataframe\">\n",
       "  <thead>\n",
       "    <tr style=\"text-align: right;\">\n",
       "      <th></th>\n",
       "      <th>Current Price</th>\n",
       "      <th>Original Price</th>\n",
       "      <th>Rating</th>\n",
       "      <th>Number OF Ratings</th>\n",
       "      <th>Battery Life (Days)</th>\n",
       "      <th>Display Size</th>\n",
       "      <th>Weight</th>\n",
       "    </tr>\n",
       "  </thead>\n",
       "  <tbody>\n",
       "    <tr>\n",
       "      <th>0</th>\n",
       "      <td>0.111631</td>\n",
       "      <td>0.568365</td>\n",
       "      <td>0.833333</td>\n",
       "      <td>0.622082</td>\n",
       "      <td>0.129412</td>\n",
       "      <td>0.615385</td>\n",
       "      <td>0.772727</td>\n",
       "    </tr>\n",
       "    <tr>\n",
       "      <th>1</th>\n",
       "      <td>0.034348</td>\n",
       "      <td>0.229960</td>\n",
       "      <td>0.416667</td>\n",
       "      <td>0.650096</td>\n",
       "      <td>0.341176</td>\n",
       "      <td>0.538462</td>\n",
       "      <td>0.409091</td>\n",
       "    </tr>\n",
       "    <tr>\n",
       "      <th>2</th>\n",
       "      <td>0.025761</td>\n",
       "      <td>0.681053</td>\n",
       "      <td>0.833333</td>\n",
       "      <td>0.396295</td>\n",
       "      <td>0.129412</td>\n",
       "      <td>0.615385</td>\n",
       "      <td>1.000000</td>\n",
       "    </tr>\n",
       "    <tr>\n",
       "      <th>3</th>\n",
       "      <td>0.017174</td>\n",
       "      <td>0.117609</td>\n",
       "      <td>0.666667</td>\n",
       "      <td>0.415958</td>\n",
       "      <td>0.341176</td>\n",
       "      <td>0.538462</td>\n",
       "      <td>0.409091</td>\n",
       "    </tr>\n",
       "    <tr>\n",
       "      <th>4</th>\n",
       "      <td>0.012881</td>\n",
       "      <td>0.080047</td>\n",
       "      <td>0.583333</td>\n",
       "      <td>0.978720</td>\n",
       "      <td>0.341176</td>\n",
       "      <td>0.538462</td>\n",
       "      <td>0.409091</td>\n",
       "    </tr>\n",
       "  </tbody>\n",
       "</table>\n",
       "</div>"
      ],
      "text/plain": [
       "   Current Price  Original Price    Rating  Number OF Ratings  \\\n",
       "0       0.111631        0.568365  0.833333           0.622082   \n",
       "1       0.034348        0.229960  0.416667           0.650096   \n",
       "2       0.025761        0.681053  0.833333           0.396295   \n",
       "3       0.017174        0.117609  0.666667           0.415958   \n",
       "4       0.012881        0.080047  0.583333           0.978720   \n",
       "\n",
       "   Battery Life (Days)  Display Size    Weight  \n",
       "0             0.129412      0.615385  0.772727  \n",
       "1             0.341176      0.538462  0.409091  \n",
       "2             0.129412      0.615385  1.000000  \n",
       "3             0.341176      0.538462  0.409091  \n",
       "4             0.341176      0.538462  0.409091  "
      ]
     },
     "execution_count": 54,
     "metadata": {},
     "output_type": "execute_result"
    }
   ],
   "source": [
    "data.head()"
   ]
  },
  {
   "cell_type": "code",
   "execution_count": 55,
   "metadata": {},
   "outputs": [
    {
     "data": {
      "text/plain": [
       "(181, 16)"
      ]
     },
     "execution_count": 55,
     "metadata": {},
     "output_type": "execute_result"
    }
   ],
   "source": [
    "pd.concat([train_df.reset_index(), data], axis=1).shape"
   ]
  },
  {
   "cell_type": "code",
   "execution_count": 56,
   "metadata": {},
   "outputs": [],
   "source": [
    "train_df = pd.concat([train_df.reset_index(), data], axis=1)"
   ]
  },
  {
   "cell_type": "code",
   "execution_count": 57,
   "metadata": {},
   "outputs": [
    {
     "data": {
      "text/plain": [
       "index                   0\n",
       "Brand                   0\n",
       "Model Name              9\n",
       "Dial Shape             65\n",
       "Strap Color            65\n",
       "Strap Material         26\n",
       "Touchscreen             6\n",
       "Bluetooth               0\n",
       "Discount Price          0\n",
       "Current Price           0\n",
       "Original Price          0\n",
       "Rating                  0\n",
       "Number OF Ratings       0\n",
       "Battery Life (Days)     0\n",
       "Display Size            0\n",
       "Weight                  0\n",
       "dtype: int64"
      ]
     },
     "execution_count": 57,
     "metadata": {},
     "output_type": "execute_result"
    }
   ],
   "source": [
    "train_df.isna().sum()"
   ]
  },
  {
   "cell_type": "code",
   "execution_count": 58,
   "metadata": {},
   "outputs": [
    {
     "data": {
      "text/html": [
       "<div>\n",
       "<style scoped>\n",
       "    .dataframe tbody tr th:only-of-type {\n",
       "        vertical-align: middle;\n",
       "    }\n",
       "\n",
       "    .dataframe tbody tr th {\n",
       "        vertical-align: top;\n",
       "    }\n",
       "\n",
       "    .dataframe thead th {\n",
       "        text-align: right;\n",
       "    }\n",
       "</style>\n",
       "<table border=\"1\" class=\"dataframe\">\n",
       "  <thead>\n",
       "    <tr style=\"text-align: right;\">\n",
       "      <th></th>\n",
       "      <th>index</th>\n",
       "      <th>Brand</th>\n",
       "      <th>Model Name</th>\n",
       "      <th>Dial Shape</th>\n",
       "      <th>Strap Color</th>\n",
       "      <th>Strap Material</th>\n",
       "      <th>Touchscreen</th>\n",
       "      <th>Bluetooth</th>\n",
       "      <th>Discount Price</th>\n",
       "      <th>Current Price</th>\n",
       "      <th>Original Price</th>\n",
       "      <th>Rating</th>\n",
       "      <th>Number OF Ratings</th>\n",
       "      <th>Battery Life (Days)</th>\n",
       "      <th>Display Size</th>\n",
       "      <th>Weight</th>\n",
       "    </tr>\n",
       "  </thead>\n",
       "  <tbody>\n",
       "    <tr>\n",
       "      <th>0</th>\n",
       "      <td>1</td>\n",
       "      <td>fire-boltt</td>\n",
       "      <td>BSW046</td>\n",
       "      <td>NaN</td>\n",
       "      <td>NaN</td>\n",
       "      <td>Silicon</td>\n",
       "      <td>Yes</td>\n",
       "      <td>Yes</td>\n",
       "      <td>-13200.000001</td>\n",
       "      <td>0.111631</td>\n",
       "      <td>0.568365</td>\n",
       "      <td>0.833333</td>\n",
       "      <td>0.622082</td>\n",
       "      <td>0.129412</td>\n",
       "      <td>0.615385</td>\n",
       "      <td>0.772727</td>\n",
       "    </tr>\n",
       "    <tr>\n",
       "      <th>1</th>\n",
       "      <td>2</td>\n",
       "      <td>boat</td>\n",
       "      <td>Wave Call</td>\n",
       "      <td>NaN</td>\n",
       "      <td>NaN</td>\n",
       "      <td>Silicon</td>\n",
       "      <td>Yes</td>\n",
       "      <td>Yes</td>\n",
       "      <td>-5991.000000</td>\n",
       "      <td>0.034348</td>\n",
       "      <td>0.229960</td>\n",
       "      <td>0.416667</td>\n",
       "      <td>0.650096</td>\n",
       "      <td>0.341176</td>\n",
       "      <td>0.538462</td>\n",
       "      <td>0.409091</td>\n",
       "    </tr>\n",
       "    <tr>\n",
       "      <th>2</th>\n",
       "      <td>3</td>\n",
       "      <td>fire-boltt</td>\n",
       "      <td>BSW053</td>\n",
       "      <td>NaN</td>\n",
       "      <td>NaN</td>\n",
       "      <td>Silicon</td>\n",
       "      <td>Yes</td>\n",
       "      <td>Yes</td>\n",
       "      <td>-18200.000000</td>\n",
       "      <td>0.025761</td>\n",
       "      <td>0.681053</td>\n",
       "      <td>0.833333</td>\n",
       "      <td>0.396295</td>\n",
       "      <td>0.129412</td>\n",
       "      <td>0.615385</td>\n",
       "      <td>1.000000</td>\n",
       "    </tr>\n",
       "    <tr>\n",
       "      <th>3</th>\n",
       "      <td>4</td>\n",
       "      <td>noise</td>\n",
       "      <td>Wrb-sw-colorfitpulsegobuzz-std-blk_blk</td>\n",
       "      <td>NaN</td>\n",
       "      <td>NaN</td>\n",
       "      <td>Other</td>\n",
       "      <td>Yes</td>\n",
       "      <td>Yes</td>\n",
       "      <td>-3400.000000</td>\n",
       "      <td>0.017174</td>\n",
       "      <td>0.117609</td>\n",
       "      <td>0.666667</td>\n",
       "      <td>0.415958</td>\n",
       "      <td>0.341176</td>\n",
       "      <td>0.538462</td>\n",
       "      <td>0.409091</td>\n",
       "    </tr>\n",
       "    <tr>\n",
       "      <th>4</th>\n",
       "      <td>5</td>\n",
       "      <td>noise</td>\n",
       "      <td>NSW-05</td>\n",
       "      <td>NaN</td>\n",
       "      <td>NaN</td>\n",
       "      <td>Other</td>\n",
       "      <td>Yes</td>\n",
       "      <td>Yes</td>\n",
       "      <td>-2500.000000</td>\n",
       "      <td>0.012881</td>\n",
       "      <td>0.080047</td>\n",
       "      <td>0.583333</td>\n",
       "      <td>0.978720</td>\n",
       "      <td>0.341176</td>\n",
       "      <td>0.538462</td>\n",
       "      <td>0.409091</td>\n",
       "    </tr>\n",
       "  </tbody>\n",
       "</table>\n",
       "</div>"
      ],
      "text/plain": [
       "   index       Brand                              Model Name Dial Shape  \\\n",
       "0      1  fire-boltt                                  BSW046        NaN   \n",
       "1      2        boat                               Wave Call        NaN   \n",
       "2      3  fire-boltt                                  BSW053        NaN   \n",
       "3      4       noise  Wrb-sw-colorfitpulsegobuzz-std-blk_blk        NaN   \n",
       "4      5       noise                                  NSW-05        NaN   \n",
       "\n",
       "  Strap Color Strap Material Touchscreen Bluetooth  Discount Price  \\\n",
       "0         NaN        Silicon         Yes       Yes   -13200.000001   \n",
       "1         NaN        Silicon         Yes       Yes    -5991.000000   \n",
       "2         NaN        Silicon         Yes       Yes   -18200.000000   \n",
       "3         NaN          Other         Yes       Yes    -3400.000000   \n",
       "4         NaN          Other         Yes       Yes    -2500.000000   \n",
       "\n",
       "   Current Price  Original Price    Rating  Number OF Ratings  \\\n",
       "0       0.111631        0.568365  0.833333           0.622082   \n",
       "1       0.034348        0.229960  0.416667           0.650096   \n",
       "2       0.025761        0.681053  0.833333           0.396295   \n",
       "3       0.017174        0.117609  0.666667           0.415958   \n",
       "4       0.012881        0.080047  0.583333           0.978720   \n",
       "\n",
       "   Battery Life (Days)  Display Size    Weight  \n",
       "0             0.129412      0.615385  0.772727  \n",
       "1             0.341176      0.538462  0.409091  \n",
       "2             0.129412      0.615385  1.000000  \n",
       "3             0.341176      0.538462  0.409091  \n",
       "4             0.341176      0.538462  0.409091  "
      ]
     },
     "execution_count": 58,
     "metadata": {},
     "output_type": "execute_result"
    }
   ],
   "source": [
    "train_df.head()"
   ]
  },
  {
   "cell_type": "code",
   "execution_count": 59,
   "metadata": {},
   "outputs": [
    {
     "data": {
      "text/html": [
       "<div>\n",
       "<style scoped>\n",
       "    .dataframe tbody tr th:only-of-type {\n",
       "        vertical-align: middle;\n",
       "    }\n",
       "\n",
       "    .dataframe tbody tr th {\n",
       "        vertical-align: top;\n",
       "    }\n",
       "\n",
       "    .dataframe thead th {\n",
       "        text-align: right;\n",
       "    }\n",
       "</style>\n",
       "<table border=\"1\" class=\"dataframe\">\n",
       "  <thead>\n",
       "    <tr style=\"text-align: right;\">\n",
       "      <th></th>\n",
       "      <th>Current Price</th>\n",
       "      <th>Original Price</th>\n",
       "      <th>Rating</th>\n",
       "      <th>Number OF Ratings</th>\n",
       "      <th>Battery Life (Days)</th>\n",
       "      <th>Display Size</th>\n",
       "      <th>Weight</th>\n",
       "      <th>Discount Price</th>\n",
       "    </tr>\n",
       "  </thead>\n",
       "  <tbody>\n",
       "    <tr>\n",
       "      <th>0</th>\n",
       "      <td>0.111631</td>\n",
       "      <td>0.568365</td>\n",
       "      <td>0.833333</td>\n",
       "      <td>0.622082</td>\n",
       "      <td>0.129412</td>\n",
       "      <td>0.615385</td>\n",
       "      <td>0.772727</td>\n",
       "      <td>-13200.000001</td>\n",
       "    </tr>\n",
       "    <tr>\n",
       "      <th>1</th>\n",
       "      <td>0.034348</td>\n",
       "      <td>0.229960</td>\n",
       "      <td>0.416667</td>\n",
       "      <td>0.650096</td>\n",
       "      <td>0.341176</td>\n",
       "      <td>0.538462</td>\n",
       "      <td>0.409091</td>\n",
       "      <td>-5991.000000</td>\n",
       "    </tr>\n",
       "    <tr>\n",
       "      <th>2</th>\n",
       "      <td>0.025761</td>\n",
       "      <td>0.681053</td>\n",
       "      <td>0.833333</td>\n",
       "      <td>0.396295</td>\n",
       "      <td>0.129412</td>\n",
       "      <td>0.615385</td>\n",
       "      <td>1.000000</td>\n",
       "      <td>-18200.000000</td>\n",
       "    </tr>\n",
       "    <tr>\n",
       "      <th>3</th>\n",
       "      <td>0.017174</td>\n",
       "      <td>0.117609</td>\n",
       "      <td>0.666667</td>\n",
       "      <td>0.415958</td>\n",
       "      <td>0.341176</td>\n",
       "      <td>0.538462</td>\n",
       "      <td>0.409091</td>\n",
       "      <td>-3400.000000</td>\n",
       "    </tr>\n",
       "    <tr>\n",
       "      <th>4</th>\n",
       "      <td>0.012881</td>\n",
       "      <td>0.080047</td>\n",
       "      <td>0.583333</td>\n",
       "      <td>0.978720</td>\n",
       "      <td>0.341176</td>\n",
       "      <td>0.538462</td>\n",
       "      <td>0.409091</td>\n",
       "      <td>-2500.000000</td>\n",
       "    </tr>\n",
       "    <tr>\n",
       "      <th>...</th>\n",
       "      <td>...</td>\n",
       "      <td>...</td>\n",
       "      <td>...</td>\n",
       "      <td>...</td>\n",
       "      <td>...</td>\n",
       "      <td>...</td>\n",
       "      <td>...</td>\n",
       "      <td>...</td>\n",
       "    </tr>\n",
       "    <tr>\n",
       "      <th>176</th>\n",
       "      <td>0.184621</td>\n",
       "      <td>0.211517</td>\n",
       "      <td>0.500000</td>\n",
       "      <td>0.000569</td>\n",
       "      <td>1.000000</td>\n",
       "      <td>0.615385</td>\n",
       "      <td>0.409091</td>\n",
       "      <td>-2000.000000</td>\n",
       "    </tr>\n",
       "    <tr>\n",
       "      <th>177</th>\n",
       "      <td>0.068696</td>\n",
       "      <td>0.136391</td>\n",
       "      <td>0.500000</td>\n",
       "      <td>0.000569</td>\n",
       "      <td>1.000000</td>\n",
       "      <td>0.538462</td>\n",
       "      <td>0.409091</td>\n",
       "      <td>-2700.000000</td>\n",
       "    </tr>\n",
       "    <tr>\n",
       "      <th>178</th>\n",
       "      <td>0.029969</td>\n",
       "      <td>0.001164</td>\n",
       "      <td>0.000000</td>\n",
       "      <td>0.000030</td>\n",
       "      <td>1.000000</td>\n",
       "      <td>1.000000</td>\n",
       "      <td>0.409091</td>\n",
       "      <td>-2.000000</td>\n",
       "    </tr>\n",
       "    <tr>\n",
       "      <th>179</th>\n",
       "      <td>0.120218</td>\n",
       "      <td>0.305424</td>\n",
       "      <td>0.333333</td>\n",
       "      <td>0.000000</td>\n",
       "      <td>1.000000</td>\n",
       "      <td>0.538462</td>\n",
       "      <td>0.409091</td>\n",
       "      <td>-6000.000000</td>\n",
       "    </tr>\n",
       "    <tr>\n",
       "      <th>180</th>\n",
       "      <td>0.120218</td>\n",
       "      <td>0.305424</td>\n",
       "      <td>0.333333</td>\n",
       "      <td>0.000090</td>\n",
       "      <td>1.000000</td>\n",
       "      <td>0.538462</td>\n",
       "      <td>0.409091</td>\n",
       "      <td>-6000.000000</td>\n",
       "    </tr>\n",
       "  </tbody>\n",
       "</table>\n",
       "<p>181 rows × 8 columns</p>\n",
       "</div>"
      ],
      "text/plain": [
       "     Current Price  Original Price    Rating  Number OF Ratings  \\\n",
       "0         0.111631        0.568365  0.833333           0.622082   \n",
       "1         0.034348        0.229960  0.416667           0.650096   \n",
       "2         0.025761        0.681053  0.833333           0.396295   \n",
       "3         0.017174        0.117609  0.666667           0.415958   \n",
       "4         0.012881        0.080047  0.583333           0.978720   \n",
       "..             ...             ...       ...                ...   \n",
       "176       0.184621        0.211517  0.500000           0.000569   \n",
       "177       0.068696        0.136391  0.500000           0.000569   \n",
       "178       0.029969        0.001164  0.000000           0.000030   \n",
       "179       0.120218        0.305424  0.333333           0.000000   \n",
       "180       0.120218        0.305424  0.333333           0.000090   \n",
       "\n",
       "     Battery Life (Days)  Display Size    Weight  Discount Price  \n",
       "0               0.129412      0.615385  0.772727   -13200.000001  \n",
       "1               0.341176      0.538462  0.409091    -5991.000000  \n",
       "2               0.129412      0.615385  1.000000   -18200.000000  \n",
       "3               0.341176      0.538462  0.409091    -3400.000000  \n",
       "4               0.341176      0.538462  0.409091    -2500.000000  \n",
       "..                   ...           ...       ...             ...  \n",
       "176             1.000000      0.615385  0.409091    -2000.000000  \n",
       "177             1.000000      0.538462  0.409091    -2700.000000  \n",
       "178             1.000000      1.000000  0.409091       -2.000000  \n",
       "179             1.000000      0.538462  0.409091    -6000.000000  \n",
       "180             1.000000      0.538462  0.409091    -6000.000000  \n",
       "\n",
       "[181 rows x 8 columns]"
      ]
     },
     "execution_count": 59,
     "metadata": {},
     "output_type": "execute_result"
    }
   ],
   "source": [
    "train_df[numerical_col]"
   ]
  },
  {
   "cell_type": "code",
   "execution_count": 60,
   "metadata": {},
   "outputs": [
    {
     "data": {
      "text/plain": [
       "(181, 16)"
      ]
     },
     "execution_count": 60,
     "metadata": {},
     "output_type": "execute_result"
    }
   ],
   "source": [
    "train_df.shape"
   ]
  },
  {
   "attachments": {},
   "cell_type": "markdown",
   "metadata": {},
   "source": [
    "#### Categorical Columns"
   ]
  },
  {
   "cell_type": "code",
   "execution_count": 61,
   "metadata": {},
   "outputs": [],
   "source": [
    "categorical_col = [feature for feature in train_df.columns if train_df[feature].dtype == 'object']"
   ]
  },
  {
   "cell_type": "code",
   "execution_count": 62,
   "metadata": {},
   "outputs": [
    {
     "data": {
      "text/plain": [
       "['Brand',\n",
       " 'Model Name',\n",
       " 'Dial Shape',\n",
       " 'Strap Color',\n",
       " 'Strap Material',\n",
       " 'Touchscreen',\n",
       " 'Bluetooth']"
      ]
     },
     "execution_count": 62,
     "metadata": {},
     "output_type": "execute_result"
    }
   ],
   "source": [
    "categorical_col"
   ]
  },
  {
   "cell_type": "code",
   "execution_count": 63,
   "metadata": {},
   "outputs": [
    {
     "data": {
      "text/html": [
       "<div>\n",
       "<style scoped>\n",
       "    .dataframe tbody tr th:only-of-type {\n",
       "        vertical-align: middle;\n",
       "    }\n",
       "\n",
       "    .dataframe tbody tr th {\n",
       "        vertical-align: top;\n",
       "    }\n",
       "\n",
       "    .dataframe thead th {\n",
       "        text-align: right;\n",
       "    }\n",
       "</style>\n",
       "<table border=\"1\" class=\"dataframe\">\n",
       "  <thead>\n",
       "    <tr style=\"text-align: right;\">\n",
       "      <th></th>\n",
       "      <th>Brand</th>\n",
       "      <th>Model Name</th>\n",
       "      <th>Dial Shape</th>\n",
       "      <th>Strap Color</th>\n",
       "      <th>Strap Material</th>\n",
       "      <th>Touchscreen</th>\n",
       "      <th>Bluetooth</th>\n",
       "    </tr>\n",
       "  </thead>\n",
       "  <tbody>\n",
       "    <tr>\n",
       "      <th>0</th>\n",
       "      <td>fire-boltt</td>\n",
       "      <td>BSW046</td>\n",
       "      <td>NaN</td>\n",
       "      <td>NaN</td>\n",
       "      <td>Silicon</td>\n",
       "      <td>Yes</td>\n",
       "      <td>Yes</td>\n",
       "    </tr>\n",
       "    <tr>\n",
       "      <th>1</th>\n",
       "      <td>boat</td>\n",
       "      <td>Wave Call</td>\n",
       "      <td>NaN</td>\n",
       "      <td>NaN</td>\n",
       "      <td>Silicon</td>\n",
       "      <td>Yes</td>\n",
       "      <td>Yes</td>\n",
       "    </tr>\n",
       "    <tr>\n",
       "      <th>2</th>\n",
       "      <td>fire-boltt</td>\n",
       "      <td>BSW053</td>\n",
       "      <td>NaN</td>\n",
       "      <td>NaN</td>\n",
       "      <td>Silicon</td>\n",
       "      <td>Yes</td>\n",
       "      <td>Yes</td>\n",
       "    </tr>\n",
       "    <tr>\n",
       "      <th>3</th>\n",
       "      <td>noise</td>\n",
       "      <td>Wrb-sw-colorfitpulsegobuzz-std-blk_blk</td>\n",
       "      <td>NaN</td>\n",
       "      <td>NaN</td>\n",
       "      <td>Other</td>\n",
       "      <td>Yes</td>\n",
       "      <td>Yes</td>\n",
       "    </tr>\n",
       "    <tr>\n",
       "      <th>4</th>\n",
       "      <td>noise</td>\n",
       "      <td>NSW-05</td>\n",
       "      <td>NaN</td>\n",
       "      <td>NaN</td>\n",
       "      <td>Other</td>\n",
       "      <td>Yes</td>\n",
       "      <td>Yes</td>\n",
       "    </tr>\n",
       "  </tbody>\n",
       "</table>\n",
       "</div>"
      ],
      "text/plain": [
       "        Brand                              Model Name Dial Shape Strap Color  \\\n",
       "0  fire-boltt                                  BSW046        NaN         NaN   \n",
       "1        boat                               Wave Call        NaN         NaN   \n",
       "2  fire-boltt                                  BSW053        NaN         NaN   \n",
       "3       noise  Wrb-sw-colorfitpulsegobuzz-std-blk_blk        NaN         NaN   \n",
       "4       noise                                  NSW-05        NaN         NaN   \n",
       "\n",
       "  Strap Material Touchscreen Bluetooth  \n",
       "0        Silicon         Yes       Yes  \n",
       "1        Silicon         Yes       Yes  \n",
       "2        Silicon         Yes       Yes  \n",
       "3          Other         Yes       Yes  \n",
       "4          Other         Yes       Yes  "
      ]
     },
     "execution_count": 63,
     "metadata": {},
     "output_type": "execute_result"
    }
   ],
   "source": [
    "train_df[categorical_col].head()"
   ]
  },
  {
   "cell_type": "code",
   "execution_count": 64,
   "metadata": {},
   "outputs": [
    {
     "data": {
      "text/plain": [
       "Yes    181\n",
       "Name: Bluetooth, dtype: int64"
      ]
     },
     "execution_count": 64,
     "metadata": {},
     "output_type": "execute_result"
    }
   ],
   "source": [
    "train_df['Bluetooth'].value_counts()"
   ]
  },
  {
   "cell_type": "code",
   "execution_count": 65,
   "metadata": {},
   "outputs": [],
   "source": [
    "categorical_col.remove('Bluetooth')"
   ]
  },
  {
   "cell_type": "code",
   "execution_count": 66,
   "metadata": {},
   "outputs": [],
   "source": [
    "from scipy.stats import f_oneway\n",
    "    "
   ]
  },
  {
   "cell_type": "code",
   "execution_count": 67,
   "metadata": {},
   "outputs": [
    {
     "name": "stdout",
     "output_type": "stream",
     "text": [
      "Brand :  P-Value for anova is :  8.421850586222326e-14\n",
      "Model Name :  P-Value for anova is :  4.263744302000662e-05\n",
      "Dial Shape :  P-Value for anova is :  0.0001236872758889996\n",
      "Strap Color :  P-Value for anova is :  0.06574836943894026\n",
      "Strap Material :  P-Value for anova is :  0.00039800860157354883\n",
      "Touchscreen :  P-Value for anova is :  0.9803878528536762\n"
     ]
    }
   ],
   "source": [
    "for col in categorical_col:\n",
    "    CategoryGroupLists = train_df.groupby(col)['Discount Price'].apply(list)\n",
    "    AnovaResults = f_oneway(*CategoryGroupLists)\n",
    "    print(col, ': ', 'P-Value for anova is : ', AnovaResults[1])"
   ]
  },
  {
   "cell_type": "code",
   "execution_count": 68,
   "metadata": {},
   "outputs": [],
   "source": [
    "imp_col = ['Brand', 'Model Name', 'Dial Shape', 'Strap Material']"
   ]
  },
  {
   "cell_type": "code",
   "execution_count": 69,
   "metadata": {},
   "outputs": [
    {
     "data": {
      "text/html": [
       "<div>\n",
       "<style scoped>\n",
       "    .dataframe tbody tr th:only-of-type {\n",
       "        vertical-align: middle;\n",
       "    }\n",
       "\n",
       "    .dataframe tbody tr th {\n",
       "        vertical-align: top;\n",
       "    }\n",
       "\n",
       "    .dataframe thead th {\n",
       "        text-align: right;\n",
       "    }\n",
       "</style>\n",
       "<table border=\"1\" class=\"dataframe\">\n",
       "  <thead>\n",
       "    <tr style=\"text-align: right;\">\n",
       "      <th></th>\n",
       "      <th>Brand</th>\n",
       "      <th>Model Name</th>\n",
       "      <th>Dial Shape</th>\n",
       "      <th>Strap Material</th>\n",
       "    </tr>\n",
       "  </thead>\n",
       "  <tbody>\n",
       "    <tr>\n",
       "      <th>0</th>\n",
       "      <td>fire-boltt</td>\n",
       "      <td>BSW046</td>\n",
       "      <td>NaN</td>\n",
       "      <td>Silicon</td>\n",
       "    </tr>\n",
       "    <tr>\n",
       "      <th>1</th>\n",
       "      <td>boat</td>\n",
       "      <td>Wave Call</td>\n",
       "      <td>NaN</td>\n",
       "      <td>Silicon</td>\n",
       "    </tr>\n",
       "    <tr>\n",
       "      <th>2</th>\n",
       "      <td>fire-boltt</td>\n",
       "      <td>BSW053</td>\n",
       "      <td>NaN</td>\n",
       "      <td>Silicon</td>\n",
       "    </tr>\n",
       "    <tr>\n",
       "      <th>3</th>\n",
       "      <td>noise</td>\n",
       "      <td>Wrb-sw-colorfitpulsegobuzz-std-blk_blk</td>\n",
       "      <td>NaN</td>\n",
       "      <td>Other</td>\n",
       "    </tr>\n",
       "    <tr>\n",
       "      <th>4</th>\n",
       "      <td>noise</td>\n",
       "      <td>NSW-05</td>\n",
       "      <td>NaN</td>\n",
       "      <td>Other</td>\n",
       "    </tr>\n",
       "  </tbody>\n",
       "</table>\n",
       "</div>"
      ],
      "text/plain": [
       "        Brand                              Model Name Dial Shape  \\\n",
       "0  fire-boltt                                  BSW046        NaN   \n",
       "1        boat                               Wave Call        NaN   \n",
       "2  fire-boltt                                  BSW053        NaN   \n",
       "3       noise  Wrb-sw-colorfitpulsegobuzz-std-blk_blk        NaN   \n",
       "4       noise                                  NSW-05        NaN   \n",
       "\n",
       "  Strap Material  \n",
       "0        Silicon  \n",
       "1        Silicon  \n",
       "2        Silicon  \n",
       "3          Other  \n",
       "4          Other  "
      ]
     },
     "execution_count": 69,
     "metadata": {},
     "output_type": "execute_result"
    }
   ],
   "source": [
    "train_df[imp_col].head()"
   ]
  },
  {
   "cell_type": "code",
   "execution_count": 70,
   "metadata": {},
   "outputs": [
    {
     "data": {
      "text/plain": [
       "Brand              0\n",
       "Model Name         9\n",
       "Dial Shape        65\n",
       "Strap Material    26\n",
       "dtype: int64"
      ]
     },
     "execution_count": 70,
     "metadata": {},
     "output_type": "execute_result"
    }
   ],
   "source": [
    "train_df[imp_col].isna().sum()"
   ]
  },
  {
   "cell_type": "code",
   "execution_count": 71,
   "metadata": {},
   "outputs": [],
   "source": [
    "for col in imp_col[1:]:\n",
    "    train_df[col].fillna('other', inplace=True)"
   ]
  },
  {
   "cell_type": "code",
   "execution_count": 72,
   "metadata": {},
   "outputs": [],
   "source": [
    "brand = pd.get_dummies(train_df['Brand'], drop_first=True)"
   ]
  },
  {
   "cell_type": "code",
   "execution_count": 73,
   "metadata": {},
   "outputs": [],
   "source": [
    "model_name  = pd.get_dummies(train_df['Model Name']).drop(['other'], axis=1)\n",
    "dial_shape = pd.get_dummies(train_df['Dial Shape']).drop(['other'], axis=1)\n",
    "strap_material = pd.get_dummies(train_df['Strap Material']).drop(['other'], axis=1)"
   ]
  },
  {
   "cell_type": "code",
   "execution_count": 74,
   "metadata": {},
   "outputs": [],
   "source": [
    "imp_df = pd.concat([brand, model_name, dial_shape, strap_material], axis=1)"
   ]
  },
  {
   "cell_type": "code",
   "execution_count": 75,
   "metadata": {},
   "outputs": [
    {
     "data": {
      "text/html": [
       "<div>\n",
       "<style scoped>\n",
       "    .dataframe tbody tr th:only-of-type {\n",
       "        vertical-align: middle;\n",
       "    }\n",
       "\n",
       "    .dataframe tbody tr th {\n",
       "        vertical-align: top;\n",
       "    }\n",
       "\n",
       "    .dataframe thead th {\n",
       "        text-align: right;\n",
       "    }\n",
       "</style>\n",
       "<table border=\"1\" class=\"dataframe\">\n",
       "  <thead>\n",
       "    <tr style=\"text-align: right;\">\n",
       "      <th></th>\n",
       "      <th>ambrane</th>\n",
       "      <th>boat</th>\n",
       "      <th>crossbeats</th>\n",
       "      <th>dizo</th>\n",
       "      <th>fire-boltt</th>\n",
       "      <th>fitbit</th>\n",
       "      <th>fossil</th>\n",
       "      <th>garmin</th>\n",
       "      <th>gizmore</th>\n",
       "      <th>hammer</th>\n",
       "      <th>...</th>\n",
       "      <th>Leather</th>\n",
       "      <th>Metal</th>\n",
       "      <th>Nylon</th>\n",
       "      <th>Other</th>\n",
       "      <th>Plastic</th>\n",
       "      <th>Rubber</th>\n",
       "      <th>Silicon</th>\n",
       "      <th>Stainless Steel</th>\n",
       "      <th>Synthetic</th>\n",
       "      <th>Thermo Plastic Polyurethene</th>\n",
       "    </tr>\n",
       "  </thead>\n",
       "  <tbody>\n",
       "    <tr>\n",
       "      <th>0</th>\n",
       "      <td>0</td>\n",
       "      <td>0</td>\n",
       "      <td>0</td>\n",
       "      <td>0</td>\n",
       "      <td>1</td>\n",
       "      <td>0</td>\n",
       "      <td>0</td>\n",
       "      <td>0</td>\n",
       "      <td>0</td>\n",
       "      <td>0</td>\n",
       "      <td>...</td>\n",
       "      <td>0</td>\n",
       "      <td>0</td>\n",
       "      <td>0</td>\n",
       "      <td>0</td>\n",
       "      <td>0</td>\n",
       "      <td>0</td>\n",
       "      <td>1</td>\n",
       "      <td>0</td>\n",
       "      <td>0</td>\n",
       "      <td>0</td>\n",
       "    </tr>\n",
       "    <tr>\n",
       "      <th>1</th>\n",
       "      <td>0</td>\n",
       "      <td>1</td>\n",
       "      <td>0</td>\n",
       "      <td>0</td>\n",
       "      <td>0</td>\n",
       "      <td>0</td>\n",
       "      <td>0</td>\n",
       "      <td>0</td>\n",
       "      <td>0</td>\n",
       "      <td>0</td>\n",
       "      <td>...</td>\n",
       "      <td>0</td>\n",
       "      <td>0</td>\n",
       "      <td>0</td>\n",
       "      <td>0</td>\n",
       "      <td>0</td>\n",
       "      <td>0</td>\n",
       "      <td>1</td>\n",
       "      <td>0</td>\n",
       "      <td>0</td>\n",
       "      <td>0</td>\n",
       "    </tr>\n",
       "    <tr>\n",
       "      <th>2</th>\n",
       "      <td>0</td>\n",
       "      <td>0</td>\n",
       "      <td>0</td>\n",
       "      <td>0</td>\n",
       "      <td>1</td>\n",
       "      <td>0</td>\n",
       "      <td>0</td>\n",
       "      <td>0</td>\n",
       "      <td>0</td>\n",
       "      <td>0</td>\n",
       "      <td>...</td>\n",
       "      <td>0</td>\n",
       "      <td>0</td>\n",
       "      <td>0</td>\n",
       "      <td>0</td>\n",
       "      <td>0</td>\n",
       "      <td>0</td>\n",
       "      <td>1</td>\n",
       "      <td>0</td>\n",
       "      <td>0</td>\n",
       "      <td>0</td>\n",
       "    </tr>\n",
       "    <tr>\n",
       "      <th>3</th>\n",
       "      <td>0</td>\n",
       "      <td>0</td>\n",
       "      <td>0</td>\n",
       "      <td>0</td>\n",
       "      <td>0</td>\n",
       "      <td>0</td>\n",
       "      <td>0</td>\n",
       "      <td>0</td>\n",
       "      <td>0</td>\n",
       "      <td>0</td>\n",
       "      <td>...</td>\n",
       "      <td>0</td>\n",
       "      <td>0</td>\n",
       "      <td>0</td>\n",
       "      <td>1</td>\n",
       "      <td>0</td>\n",
       "      <td>0</td>\n",
       "      <td>0</td>\n",
       "      <td>0</td>\n",
       "      <td>0</td>\n",
       "      <td>0</td>\n",
       "    </tr>\n",
       "    <tr>\n",
       "      <th>4</th>\n",
       "      <td>0</td>\n",
       "      <td>0</td>\n",
       "      <td>0</td>\n",
       "      <td>0</td>\n",
       "      <td>0</td>\n",
       "      <td>0</td>\n",
       "      <td>0</td>\n",
       "      <td>0</td>\n",
       "      <td>0</td>\n",
       "      <td>0</td>\n",
       "      <td>...</td>\n",
       "      <td>0</td>\n",
       "      <td>0</td>\n",
       "      <td>0</td>\n",
       "      <td>1</td>\n",
       "      <td>0</td>\n",
       "      <td>0</td>\n",
       "      <td>0</td>\n",
       "      <td>0</td>\n",
       "      <td>0</td>\n",
       "      <td>0</td>\n",
       "    </tr>\n",
       "  </tbody>\n",
       "</table>\n",
       "<p>5 rows × 193 columns</p>\n",
       "</div>"
      ],
      "text/plain": [
       "   ambrane  boat  crossbeats  dizo  fire-boltt  fitbit  fossil  garmin  \\\n",
       "0        0     0           0     0           1       0       0       0   \n",
       "1        0     1           0     0           0       0       0       0   \n",
       "2        0     0           0     0           1       0       0       0   \n",
       "3        0     0           0     0           0       0       0       0   \n",
       "4        0     0           0     0           0       0       0       0   \n",
       "\n",
       "   gizmore  hammer  ...  Leather  Metal  Nylon  Other  Plastic  Rubber  \\\n",
       "0        0       0  ...        0      0      0      0        0       0   \n",
       "1        0       0  ...        0      0      0      0        0       0   \n",
       "2        0       0  ...        0      0      0      0        0       0   \n",
       "3        0       0  ...        0      0      0      1        0       0   \n",
       "4        0       0  ...        0      0      0      1        0       0   \n",
       "\n",
       "   Silicon  Stainless Steel  Synthetic  Thermo Plastic Polyurethene  \n",
       "0        1                0          0                            0  \n",
       "1        1                0          0                            0  \n",
       "2        1                0          0                            0  \n",
       "3        0                0          0                            0  \n",
       "4        0                0          0                            0  \n",
       "\n",
       "[5 rows x 193 columns]"
      ]
     },
     "execution_count": 75,
     "metadata": {},
     "output_type": "execute_result"
    }
   ],
   "source": [
    "imp_df.head()"
   ]
  },
  {
   "cell_type": "code",
   "execution_count": 76,
   "metadata": {},
   "outputs": [
    {
     "data": {
      "text/plain": [
       "Current Price          0\n",
       "Original Price         0\n",
       "Rating                 0\n",
       "Number OF Ratings      0\n",
       "Battery Life (Days)    0\n",
       "Display Size           0\n",
       "Weight                 0\n",
       "Discount Price         0\n",
       "dtype: int64"
      ]
     },
     "execution_count": 76,
     "metadata": {},
     "output_type": "execute_result"
    }
   ],
   "source": [
    "train_df[numerical_col].isna().sum()"
   ]
  },
  {
   "cell_type": "code",
   "execution_count": 77,
   "metadata": {},
   "outputs": [],
   "source": [
    "new_df = pd.concat([train_df[numerical_col], imp_df], axis=1)"
   ]
  },
  {
   "cell_type": "code",
   "execution_count": 78,
   "metadata": {},
   "outputs": [
    {
     "data": {
      "text/html": [
       "<div>\n",
       "<style scoped>\n",
       "    .dataframe tbody tr th:only-of-type {\n",
       "        vertical-align: middle;\n",
       "    }\n",
       "\n",
       "    .dataframe tbody tr th {\n",
       "        vertical-align: top;\n",
       "    }\n",
       "\n",
       "    .dataframe thead th {\n",
       "        text-align: right;\n",
       "    }\n",
       "</style>\n",
       "<table border=\"1\" class=\"dataframe\">\n",
       "  <thead>\n",
       "    <tr style=\"text-align: right;\">\n",
       "      <th></th>\n",
       "      <th>Current Price</th>\n",
       "      <th>Original Price</th>\n",
       "      <th>Rating</th>\n",
       "      <th>Number OF Ratings</th>\n",
       "      <th>Battery Life (Days)</th>\n",
       "      <th>Display Size</th>\n",
       "      <th>Weight</th>\n",
       "      <th>Discount Price</th>\n",
       "      <th>ambrane</th>\n",
       "      <th>boat</th>\n",
       "      <th>...</th>\n",
       "      <th>Leather</th>\n",
       "      <th>Metal</th>\n",
       "      <th>Nylon</th>\n",
       "      <th>Other</th>\n",
       "      <th>Plastic</th>\n",
       "      <th>Rubber</th>\n",
       "      <th>Silicon</th>\n",
       "      <th>Stainless Steel</th>\n",
       "      <th>Synthetic</th>\n",
       "      <th>Thermo Plastic Polyurethene</th>\n",
       "    </tr>\n",
       "  </thead>\n",
       "  <tbody>\n",
       "    <tr>\n",
       "      <th>0</th>\n",
       "      <td>0.111631</td>\n",
       "      <td>0.568365</td>\n",
       "      <td>0.833333</td>\n",
       "      <td>0.622082</td>\n",
       "      <td>0.129412</td>\n",
       "      <td>0.615385</td>\n",
       "      <td>0.772727</td>\n",
       "      <td>-13200.000001</td>\n",
       "      <td>0</td>\n",
       "      <td>0</td>\n",
       "      <td>...</td>\n",
       "      <td>0</td>\n",
       "      <td>0</td>\n",
       "      <td>0</td>\n",
       "      <td>0</td>\n",
       "      <td>0</td>\n",
       "      <td>0</td>\n",
       "      <td>1</td>\n",
       "      <td>0</td>\n",
       "      <td>0</td>\n",
       "      <td>0</td>\n",
       "    </tr>\n",
       "    <tr>\n",
       "      <th>1</th>\n",
       "      <td>0.034348</td>\n",
       "      <td>0.229960</td>\n",
       "      <td>0.416667</td>\n",
       "      <td>0.650096</td>\n",
       "      <td>0.341176</td>\n",
       "      <td>0.538462</td>\n",
       "      <td>0.409091</td>\n",
       "      <td>-5991.000000</td>\n",
       "      <td>0</td>\n",
       "      <td>1</td>\n",
       "      <td>...</td>\n",
       "      <td>0</td>\n",
       "      <td>0</td>\n",
       "      <td>0</td>\n",
       "      <td>0</td>\n",
       "      <td>0</td>\n",
       "      <td>0</td>\n",
       "      <td>1</td>\n",
       "      <td>0</td>\n",
       "      <td>0</td>\n",
       "      <td>0</td>\n",
       "    </tr>\n",
       "    <tr>\n",
       "      <th>2</th>\n",
       "      <td>0.025761</td>\n",
       "      <td>0.681053</td>\n",
       "      <td>0.833333</td>\n",
       "      <td>0.396295</td>\n",
       "      <td>0.129412</td>\n",
       "      <td>0.615385</td>\n",
       "      <td>1.000000</td>\n",
       "      <td>-18200.000000</td>\n",
       "      <td>0</td>\n",
       "      <td>0</td>\n",
       "      <td>...</td>\n",
       "      <td>0</td>\n",
       "      <td>0</td>\n",
       "      <td>0</td>\n",
       "      <td>0</td>\n",
       "      <td>0</td>\n",
       "      <td>0</td>\n",
       "      <td>1</td>\n",
       "      <td>0</td>\n",
       "      <td>0</td>\n",
       "      <td>0</td>\n",
       "    </tr>\n",
       "    <tr>\n",
       "      <th>3</th>\n",
       "      <td>0.017174</td>\n",
       "      <td>0.117609</td>\n",
       "      <td>0.666667</td>\n",
       "      <td>0.415958</td>\n",
       "      <td>0.341176</td>\n",
       "      <td>0.538462</td>\n",
       "      <td>0.409091</td>\n",
       "      <td>-3400.000000</td>\n",
       "      <td>0</td>\n",
       "      <td>0</td>\n",
       "      <td>...</td>\n",
       "      <td>0</td>\n",
       "      <td>0</td>\n",
       "      <td>0</td>\n",
       "      <td>1</td>\n",
       "      <td>0</td>\n",
       "      <td>0</td>\n",
       "      <td>0</td>\n",
       "      <td>0</td>\n",
       "      <td>0</td>\n",
       "      <td>0</td>\n",
       "    </tr>\n",
       "    <tr>\n",
       "      <th>4</th>\n",
       "      <td>0.012881</td>\n",
       "      <td>0.080047</td>\n",
       "      <td>0.583333</td>\n",
       "      <td>0.978720</td>\n",
       "      <td>0.341176</td>\n",
       "      <td>0.538462</td>\n",
       "      <td>0.409091</td>\n",
       "      <td>-2500.000000</td>\n",
       "      <td>0</td>\n",
       "      <td>0</td>\n",
       "      <td>...</td>\n",
       "      <td>0</td>\n",
       "      <td>0</td>\n",
       "      <td>0</td>\n",
       "      <td>1</td>\n",
       "      <td>0</td>\n",
       "      <td>0</td>\n",
       "      <td>0</td>\n",
       "      <td>0</td>\n",
       "      <td>0</td>\n",
       "      <td>0</td>\n",
       "    </tr>\n",
       "  </tbody>\n",
       "</table>\n",
       "<p>5 rows × 201 columns</p>\n",
       "</div>"
      ],
      "text/plain": [
       "   Current Price  Original Price    Rating  Number OF Ratings  \\\n",
       "0       0.111631        0.568365  0.833333           0.622082   \n",
       "1       0.034348        0.229960  0.416667           0.650096   \n",
       "2       0.025761        0.681053  0.833333           0.396295   \n",
       "3       0.017174        0.117609  0.666667           0.415958   \n",
       "4       0.012881        0.080047  0.583333           0.978720   \n",
       "\n",
       "   Battery Life (Days)  Display Size    Weight  Discount Price  ambrane  boat  \\\n",
       "0             0.129412      0.615385  0.772727   -13200.000001        0     0   \n",
       "1             0.341176      0.538462  0.409091    -5991.000000        0     1   \n",
       "2             0.129412      0.615385  1.000000   -18200.000000        0     0   \n",
       "3             0.341176      0.538462  0.409091    -3400.000000        0     0   \n",
       "4             0.341176      0.538462  0.409091    -2500.000000        0     0   \n",
       "\n",
       "   ...  Leather  Metal  Nylon  Other  Plastic  Rubber  Silicon  \\\n",
       "0  ...        0      0      0      0        0       0        1   \n",
       "1  ...        0      0      0      0        0       0        1   \n",
       "2  ...        0      0      0      0        0       0        1   \n",
       "3  ...        0      0      0      1        0       0        0   \n",
       "4  ...        0      0      0      1        0       0        0   \n",
       "\n",
       "   Stainless Steel  Synthetic  Thermo Plastic Polyurethene  \n",
       "0                0          0                            0  \n",
       "1                0          0                            0  \n",
       "2                0          0                            0  \n",
       "3                0          0                            0  \n",
       "4                0          0                            0  \n",
       "\n",
       "[5 rows x 201 columns]"
      ]
     },
     "execution_count": 78,
     "metadata": {},
     "output_type": "execute_result"
    }
   ],
   "source": [
    "new_df.head()"
   ]
  },
  {
   "cell_type": "code",
   "execution_count": 79,
   "metadata": {},
   "outputs": [
    {
     "data": {
      "text/plain": [
       "Current Price                  0\n",
       "Original Price                 0\n",
       "Rating                         0\n",
       "Number OF Ratings              0\n",
       "Battery Life (Days)            0\n",
       "                              ..\n",
       "Rubber                         0\n",
       "Silicon                        0\n",
       "Stainless Steel                0\n",
       "Synthetic                      0\n",
       "Thermo Plastic Polyurethene    0\n",
       "Length: 201, dtype: int64"
      ]
     },
     "execution_count": 79,
     "metadata": {},
     "output_type": "execute_result"
    }
   ],
   "source": [
    "new_df.isna().sum()"
   ]
  },
  {
   "cell_type": "code",
   "execution_count": 80,
   "metadata": {},
   "outputs": [],
   "source": [
    "new_df.to_csv('./data/clean.csv', index=False)"
   ]
  }
 ],
 "metadata": {
  "kernelspec": {
   "display_name": "watchprice",
   "language": "python",
   "name": "python3"
  },
  "language_info": {
   "codemirror_mode": {
    "name": "ipython",
    "version": 3
   },
   "file_extension": ".py",
   "mimetype": "text/x-python",
   "name": "python",
   "nbconvert_exporter": "python",
   "pygments_lexer": "ipython3",
   "version": "3.9.6"
  },
  "orig_nbformat": 4
 },
 "nbformat": 4,
 "nbformat_minor": 2
}
